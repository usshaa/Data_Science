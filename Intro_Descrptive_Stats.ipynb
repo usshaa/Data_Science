{
  "nbformat": 4,
  "nbformat_minor": 0,
  "metadata": {
    "colab": {
      "provenance": [],
      "authorship_tag": "ABX9TyOJwt3uZv1G5hb4Eakm3+rp",
      "include_colab_link": true
    },
    "kernelspec": {
      "name": "python3",
      "display_name": "Python 3"
    },
    "language_info": {
      "name": "python"
    }
  },
  "cells": [
    {
      "cell_type": "markdown",
      "metadata": {
        "id": "view-in-github",
        "colab_type": "text"
      },
      "source": [
        "<a href=\"https://colab.research.google.com/github/usshaa/Data_Science/blob/main/Intro_Descrptive_Stats.ipynb\" target=\"_parent\"><img src=\"https://colab.research.google.com/assets/colab-badge.svg\" alt=\"Open In Colab\"/></a>"
      ]
    },
    {
      "cell_type": "code",
      "execution_count": 1,
      "metadata": {
        "id": "FO09G9VLCgX3"
      },
      "outputs": [],
      "source": [
        "import pandas as pd\n",
        "import numpy as np"
      ]
    },
    {
      "cell_type": "code",
      "source": [
        "# For demonstration, I'm using a sample dataset, replace with your actual file\n",
        "data = {'math_score': [70, 80, 90, 60, 75, 85, 95, 65, 72, 88],\n",
        "        'reading_score': [75, 82, 92, 65, 78, 88, 98, 68, 76, 90],\n",
        "        'writing_score': [72, 85, 95, 62, 76, 86, 96, 66, 74, 89]}\n",
        "df = pd.DataFrame(data)"
      ],
      "metadata": {
        "id": "vBL4Hi_KgpbT"
      },
      "execution_count": 2,
      "outputs": []
    },
    {
      "cell_type": "code",
      "source": [
        "# Mean\n",
        "print(\"Mean:\")\n",
        "print(df.mean())"
      ],
      "metadata": {
        "colab": {
          "base_uri": "https://localhost:8080/"
        },
        "id": "8fhG5igYgxzK",
        "outputId": "3e91b428-02f7-4929-869c-682f87b06082"
      },
      "execution_count": 4,
      "outputs": [
        {
          "output_type": "stream",
          "name": "stdout",
          "text": [
            "Mean:\n",
            "math_score       78.0\n",
            "reading_score    81.2\n",
            "writing_score    80.1\n",
            "dtype: float64\n"
          ]
        }
      ]
    },
    {
      "cell_type": "code",
      "source": [
        "# Median\n",
        "print(\"\\nMedian:\")\n",
        "print(df.median())"
      ],
      "metadata": {
        "colab": {
          "base_uri": "https://localhost:8080/"
        },
        "id": "h16xdTiqg0vh",
        "outputId": "2fa4858d-7603-41c7-8292-78ecd5168e02"
      },
      "execution_count": 5,
      "outputs": [
        {
          "output_type": "stream",
          "name": "stdout",
          "text": [
            "\n",
            "Median:\n",
            "math_score       77.5\n",
            "reading_score    80.0\n",
            "writing_score    80.5\n",
            "dtype: float64\n"
          ]
        }
      ]
    },
    {
      "cell_type": "code",
      "source": [
        "# Mode\n",
        "print(\"\\nMode:\")\n",
        "print(df.mode().iloc[0]) #taking the first mode if multiple exist"
      ],
      "metadata": {
        "colab": {
          "base_uri": "https://localhost:8080/"
        },
        "id": "y1VL39yFg2RB",
        "outputId": "f21e6634-6eae-4e62-cdfa-9c39c8a9124a"
      },
      "execution_count": 6,
      "outputs": [
        {
          "output_type": "stream",
          "name": "stdout",
          "text": [
            "\n",
            "Mode:\n",
            "math_score       60\n",
            "reading_score    65\n",
            "writing_score    62\n",
            "Name: 0, dtype: int64\n"
          ]
        }
      ]
    },
    {
      "cell_type": "code",
      "source": [
        "# Other descriptive statistics\n",
        "print(\"\\nOther Descriptive Statistics:\")\n",
        "print(\"-\" * 20)\n",
        "print(df.describe())"
      ],
      "metadata": {
        "colab": {
          "base_uri": "https://localhost:8080/"
        },
        "id": "n7VfqK04g4DF",
        "outputId": "e8ced2e4-6771-403d-b1f7-13fc3d6ecba0"
      },
      "execution_count": 7,
      "outputs": [
        {
          "output_type": "stream",
          "name": "stdout",
          "text": [
            "\n",
            "Other Descriptive Statistics:\n",
            "--------------------\n",
            "       math_score  reading_score  writing_score\n",
            "count   10.000000      10.000000      10.000000\n",
            "mean    78.000000      81.200000      80.100000\n",
            "std     11.489125      10.726913      11.826994\n",
            "min     60.000000      65.000000      62.000000\n",
            "25%     70.500000      75.250000      72.500000\n",
            "50%     77.500000      80.000000      80.500000\n",
            "75%     87.250000      89.500000      88.250000\n",
            "max     95.000000      98.000000      96.000000\n"
          ]
        }
      ]
    },
    {
      "cell_type": "code",
      "source": [],
      "metadata": {
        "id": "cVtDh5CGg5Tc"
      },
      "execution_count": null,
      "outputs": []
    }
  ]
}