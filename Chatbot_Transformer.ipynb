{
  "cells": [
    {
      "cell_type": "markdown",
      "metadata": {
        "id": "view-in-github",
        "colab_type": "text"
      },
      "source": [
        "<a href=\"https://colab.research.google.com/github/usshaa/Data_Science/blob/main/Chatbot_Transformer.ipynb\" target=\"_parent\"><img src=\"https://colab.research.google.com/assets/colab-badge.svg\" alt=\"Open In Colab\"/></a>"
      ]
    },
    {
      "cell_type": "markdown",
      "metadata": {
        "id": "0fwBlH_aQKOf"
      },
      "source": [
        "## **Module-5: Build a Chatbot with Transformers in Python**\n",
        "\n",
        "---\n",
        "\n",
        "### **Topics Covered**\n",
        "\n",
        "1. **Chatbots Overview**\n",
        "2. **Simple NLTK Bot**\n",
        "3. **Creating a Transformer-based Chatbot**\n",
        "4. **Enhancing the Chatbot**\n",
        "5. **Training the Chatbot**\n",
        "\n",
        "---\n",
        "\n",
        "### **Getting Started with Google Colab**\n",
        "\n",
        "Open a new Colab notebook and start by installing necessary packages.\n",
        "\n",
        "```python"
      ]
    },
    {
      "cell_type": "code",
      "execution_count": null,
      "metadata": {
        "colab": {
          "background_save": true
        },
        "id": "vtHnIir8QKOl"
      },
      "outputs": [],
      "source": [
        "# Install the required libraries\n",
        "!pip install transformers\n",
        "!pip install torch\n",
        "!pip install nltk\n",
        "!pip install datasets\n",
        "!pip install pandas"
      ]
    },
    {
      "cell_type": "markdown",
      "metadata": {
        "id": "Z2rjtxzvQKOo"
      },
      "source": [
        "### 1. **Chatbots Overview**\n",
        "\n",
        "Chatbots simulate human conversations and can be used in customer service, e-commerce, healthcare, and many other applications. Modern chatbots leverage AI and Natural Language Processing (NLP) techniques, such as Transformer-based models, for more accurate and human-like responses.\n",
        "\n",
        "---\n",
        "\n",
        "### 2. **Simple NLTK Bot**\n",
        "\n",
        "Let's create a basic chatbot using NLTK to handle simple responses.\n",
        "\n",
        "```python"
      ]
    },
    {
      "cell_type": "code",
      "execution_count": null,
      "metadata": {
        "id": "o18ONMJvQKOp"
      },
      "outputs": [],
      "source": [
        "import nltk\n",
        "from nltk.chat.util import Chat, reflections"
      ]
    },
    {
      "cell_type": "code",
      "execution_count": null,
      "metadata": {
        "id": "WvnldW8KQKOq"
      },
      "outputs": [],
      "source": [
        "# Example pairs of patterns and responses\n",
        "pairs = [\n",
        "    [\n",
        "        r\"hi|hello|hey\",\n",
        "        [\"Hello!\", \"Hey there!\", \"Hi!\"]\n",
        "    ],\n",
        "    [\n",
        "        r\"how are you?\",\n",
        "        [\"I'm a chatbot and I'm doing well. How about you?\"]\n",
        "    ],\n",
        "    [\n",
        "        r\"quit\",\n",
        "        [\"Bye! Take care.\", \"Goodbye!\"]\n",
        "    ]\n",
        "]"
      ]
    },
    {
      "cell_type": "code",
      "execution_count": null,
      "metadata": {
        "id": "kjx43PMzQKOr"
      },
      "outputs": [],
      "source": [
        "# Create a chatbot instance with reflections to match user input\n",
        "chatbot = Chat(pairs, reflections)"
      ]
    },
    {
      "cell_type": "code",
      "execution_count": null,
      "metadata": {
        "colab": {
          "background_save": true,
          "base_uri": "https://localhost:8080/"
        },
        "id": "PPtDsJTbQKOs",
        "outputId": "e416e3c7-ab64-4f21-ffdc-f0b23c84a9f5"
      },
      "outputs": [
        {
          "ename": "KeyboardInterrupt",
          "evalue": "Interrupted by user",
          "output_type": "error",
          "traceback": [
            "\u001b[0;31m---------------------------------------------------------------------------\u001b[0m",
            "\u001b[0;31mKeyboardInterrupt\u001b[0m                         Traceback (most recent call last)",
            "\u001b[0;32m<ipython-input-6-683d53292867>\u001b[0m in \u001b[0;36m<cell line: 2>\u001b[0;34m()\u001b[0m\n\u001b[1;32m      1\u001b[0m \u001b[0;31m# Test the NLTK chatbot\u001b[0m\u001b[0;34m\u001b[0m\u001b[0;34m\u001b[0m\u001b[0m\n\u001b[0;32m----> 2\u001b[0;31m \u001b[0mchatbot\u001b[0m\u001b[0;34m.\u001b[0m\u001b[0mconverse\u001b[0m\u001b[0;34m(\u001b[0m\u001b[0;34m)\u001b[0m\u001b[0;34m\u001b[0m\u001b[0;34m\u001b[0m\u001b[0m\n\u001b[0m",
            "\u001b[0;32m/usr/local/lib/python3.10/dist-packages/nltk/chat/util.py\u001b[0m in \u001b[0;36mconverse\u001b[0;34m(self, quit)\u001b[0m\n\u001b[1;32m    116\u001b[0m             \u001b[0muser_input\u001b[0m \u001b[0;34m=\u001b[0m \u001b[0mquit\u001b[0m\u001b[0;34m\u001b[0m\u001b[0;34m\u001b[0m\u001b[0m\n\u001b[1;32m    117\u001b[0m             \u001b[0;32mtry\u001b[0m\u001b[0;34m:\u001b[0m\u001b[0;34m\u001b[0m\u001b[0;34m\u001b[0m\u001b[0m\n\u001b[0;32m--> 118\u001b[0;31m                 \u001b[0muser_input\u001b[0m \u001b[0;34m=\u001b[0m \u001b[0minput\u001b[0m\u001b[0;34m(\u001b[0m\u001b[0;34m\">\"\u001b[0m\u001b[0;34m)\u001b[0m\u001b[0;34m\u001b[0m\u001b[0;34m\u001b[0m\u001b[0m\n\u001b[0m\u001b[1;32m    119\u001b[0m             \u001b[0;32mexcept\u001b[0m \u001b[0mEOFError\u001b[0m\u001b[0;34m:\u001b[0m\u001b[0;34m\u001b[0m\u001b[0;34m\u001b[0m\u001b[0m\n\u001b[1;32m    120\u001b[0m                 \u001b[0mprint\u001b[0m\u001b[0;34m(\u001b[0m\u001b[0muser_input\u001b[0m\u001b[0;34m)\u001b[0m\u001b[0;34m\u001b[0m\u001b[0;34m\u001b[0m\u001b[0m\n",
            "\u001b[0;32m/usr/local/lib/python3.10/dist-packages/ipykernel/kernelbase.py\u001b[0m in \u001b[0;36mraw_input\u001b[0;34m(self, prompt)\u001b[0m\n\u001b[1;32m    849\u001b[0m                 \u001b[0;34m\"raw_input was called, but this frontend does not support input requests.\"\u001b[0m\u001b[0;34m\u001b[0m\u001b[0;34m\u001b[0m\u001b[0m\n\u001b[1;32m    850\u001b[0m             )\n\u001b[0;32m--> 851\u001b[0;31m         return self._input_request(str(prompt),\n\u001b[0m\u001b[1;32m    852\u001b[0m             \u001b[0mself\u001b[0m\u001b[0;34m.\u001b[0m\u001b[0m_parent_ident\u001b[0m\u001b[0;34m,\u001b[0m\u001b[0;34m\u001b[0m\u001b[0;34m\u001b[0m\u001b[0m\n\u001b[1;32m    853\u001b[0m             \u001b[0mself\u001b[0m\u001b[0;34m.\u001b[0m\u001b[0m_parent_header\u001b[0m\u001b[0;34m,\u001b[0m\u001b[0;34m\u001b[0m\u001b[0;34m\u001b[0m\u001b[0m\n",
            "\u001b[0;32m/usr/local/lib/python3.10/dist-packages/ipykernel/kernelbase.py\u001b[0m in \u001b[0;36m_input_request\u001b[0;34m(self, prompt, ident, parent, password)\u001b[0m\n\u001b[1;32m    893\u001b[0m             \u001b[0;32mexcept\u001b[0m \u001b[0mKeyboardInterrupt\u001b[0m\u001b[0;34m:\u001b[0m\u001b[0;34m\u001b[0m\u001b[0;34m\u001b[0m\u001b[0m\n\u001b[1;32m    894\u001b[0m                 \u001b[0;31m# re-raise KeyboardInterrupt, to truncate traceback\u001b[0m\u001b[0;34m\u001b[0m\u001b[0;34m\u001b[0m\u001b[0m\n\u001b[0;32m--> 895\u001b[0;31m                 \u001b[0;32mraise\u001b[0m \u001b[0mKeyboardInterrupt\u001b[0m\u001b[0;34m(\u001b[0m\u001b[0;34m\"Interrupted by user\"\u001b[0m\u001b[0;34m)\u001b[0m \u001b[0;32mfrom\u001b[0m \u001b[0;32mNone\u001b[0m\u001b[0;34m\u001b[0m\u001b[0;34m\u001b[0m\u001b[0m\n\u001b[0m\u001b[1;32m    896\u001b[0m             \u001b[0;32mexcept\u001b[0m \u001b[0mException\u001b[0m \u001b[0;32mas\u001b[0m \u001b[0me\u001b[0m\u001b[0;34m:\u001b[0m\u001b[0;34m\u001b[0m\u001b[0;34m\u001b[0m\u001b[0m\n\u001b[1;32m    897\u001b[0m                 \u001b[0mself\u001b[0m\u001b[0;34m.\u001b[0m\u001b[0mlog\u001b[0m\u001b[0;34m.\u001b[0m\u001b[0mwarning\u001b[0m\u001b[0;34m(\u001b[0m\u001b[0;34m\"Invalid Message:\"\u001b[0m\u001b[0;34m,\u001b[0m \u001b[0mexc_info\u001b[0m\u001b[0;34m=\u001b[0m\u001b[0;32mTrue\u001b[0m\u001b[0;34m)\u001b[0m\u001b[0;34m\u001b[0m\u001b[0;34m\u001b[0m\u001b[0m\n",
            "\u001b[0;31mKeyboardInterrupt\u001b[0m: Interrupted by user"
          ]
        }
      ],
      "source": [
        "# Test the NLTK chatbot\n",
        "chatbot.converse()"
      ]
    },
    {
      "cell_type": "markdown",
      "metadata": {
        "id": "hAP-QdcfQKOt"
      },
      "source": [
        "This code creates a rule-based chatbot using NLTK, which responds based on pre-defined patterns. You can run this cell and interact with it by typing phrases that match the patterns.\n",
        "\n",
        "---\n",
        "\n",
        "### 3. **Creating a Transformer-based Chatbot**\n",
        "\n",
        "We'll use Hugging Face's `transformers` library and the pre-trained `DialoGPT` model for this. GPT is a large, pre-trained transformer model specifically trained for conversational AI.\n",
        "\n",
        "```python"
      ]
    },
    {
      "cell_type": "code",
      "execution_count": null,
      "metadata": {
        "colab": {
          "base_uri": "https://localhost:8080/"
        },
        "id": "K0ktZgnMQKOu",
        "outputId": "499fd74f-2011-4c6d-d7ef-431ec03b57a2"
      },
      "outputs": [
        {
          "name": "stderr",
          "output_type": "stream",
          "text": [
            "/usr/local/lib/python3.10/dist-packages/transformers/tokenization_utils_base.py:1601: FutureWarning: `clean_up_tokenization_spaces` was not set. It will be set to `True` by default. This behavior will be depracted in transformers v4.45, and will be then set to `False` by default. For more details check this issue: https://github.com/huggingface/transformers/issues/31884\n",
            "  warnings.warn(\n"
          ]
        },
        {
          "name": "stdout",
          "output_type": "stream",
          "text": [
            "What is the capital of France?The first time I saw the new \"The Walking Dead\" trailer, I was so excited. I was so excited to see the first trailer for the show, and I was so excited to see the first trailer for the show, and I was so excited to see the first trailer for the show, and I was so excited to see the first trailer for the show, and I was so excited to see the first trailer for the show, and I was so\n"
          ]
        }
      ],
      "source": [
        "from transformers import GPT2LMHeadModel, GPT2Tokenizer\n",
        "import torch\n",
        "\n",
        "# Load the pre-trained model and tokenizer\n",
        "model_name = \"gpt2\"  # You can use 'gpt2-medium', 'gpt2-large', etc. for larger models\n",
        "tokenizer = GPT2Tokenizer.from_pretrained(model_name)\n",
        "model = GPT2LMHeadModel.from_pretrained(model_name)\n",
        "\n",
        "# Set the model to evaluation mode\n",
        "model.eval()\n",
        "\n",
        "def generate_response(input_text):\n",
        "    # Tokenize the input text\n",
        "    inputs = tokenizer.encode(input_text + tokenizer.eos_token, return_tensors=\"pt\")\n",
        "\n",
        "    # Generate a response using the model\n",
        "    with torch.no_grad():  # Disable gradient calculations for inference\n",
        "        outputs = model.generate(inputs, max_length=100, pad_token_id=tokenizer.eos_token_id)\n",
        "\n",
        "    # Decode the generated tokens\n",
        "    response = tokenizer.decode(outputs[0], skip_special_tokens=True)\n",
        "\n",
        "    return response\n",
        "\n",
        "# Example usage\n",
        "input_text = \"What is the capital of France?\"\n",
        "response = generate_response(input_text)\n",
        "print(response)\n"
      ]
    },
    {
      "cell_type": "code",
      "execution_count": null,
      "metadata": {
        "colab": {
          "base_uri": "https://localhost:8080/"
        },
        "id": "b7lZaeB1QKOv",
        "outputId": "74f9af1a-58fb-4a96-c86a-006aceb08637"
      },
      "outputs": [
        {
          "name": "stdout",
          "output_type": "stream",
          "text": [
            "Bot: Hello, how are you?The first time I saw the new \"The Walking Dead\" trailer, I was so excited. I was so excited to see the first trailer for the show, and I was so excited to see the first trailer for the show, and I was so excited to see the first trailer for the show, and I was so excited to see the first trailer for the show, and I was so excited to see the first trailer for the show, and I was so excited\n"
          ]
        }
      ],
      "source": [
        "# Test the transformer chatbot\n",
        "user_input = \"Hello, how are you?\"\n",
        "print(\"Bot:\", generate_response(user_input))"
      ]
    },
    {
      "cell_type": "markdown",
      "metadata": {
        "id": "O2OADiBpQKOw"
      },
      "source": [
        "This code snippet defines a `generate_response` function that takes user input, tokenizes it, and generates a response using the DialoGPT model. You can test it by passing various inputs and observing the chatbot's responses.\n",
        "\n",
        "---\n",
        "\n",
        "### 4. **Enhancing the Chatbot**\n",
        "\n",
        "We can improve the chatbot by adding context awareness, keeping a conversational history, and handling new inputs more effectively.\n",
        "\n",
        "```python"
      ]
    },
    {
      "cell_type": "code",
      "execution_count": null,
      "metadata": {
        "colab": {
          "base_uri": "https://localhost:8080/"
        },
        "id": "dFt9lm5xQKOx",
        "outputId": "8d1d5b8d-696f-477e-dbb6-730d74b368b8"
      },
      "outputs": [
        {
          "name": "stdout",
          "output_type": "stream",
          "text": [
            "You: What is the capital of France?\n",
            "Chatbot: The capital of France.\n",
            "Chat\n",
            "You: What can you tell me about Paris?\n",
            "Chatbot: Paris is a city of the French people.\n",
            "Chat\n",
            "User: What\n",
            "You: Tell me a joke.\n",
            "Chatbot: Paris is a city\n",
            "You: exit\n",
            "Chatbot: Goodbye!\n"
          ]
        }
      ],
      "source": [
        "from transformers import GPT2LMHeadModel, GPT2Tokenizer\n",
        "import torch\n",
        "\n",
        "# Load the pre-trained model and tokenizer\n",
        "model_name = \"gpt2\"  # You can use 'gpt2-medium', 'gpt2-large', etc. for larger models\n",
        "tokenizer = GPT2Tokenizer.from_pretrained(model_name)\n",
        "model = GPT2LMHeadModel.from_pretrained(model_name)\n",
        "\n",
        "# Set the model to evaluation mode\n",
        "model.eval()\n",
        "\n",
        "# Initialize a conversation history\n",
        "conversation_history = []\n",
        "\n",
        "def generate_response(input_text):\n",
        "    # Append the new user input to the conversation history\n",
        "    conversation_history.append(f\"User: {input_text}\")\n",
        "\n",
        "    # Combine the history into a single string\n",
        "    history = \"\\n\".join(conversation_history) + \"\\nChatbot:\"\n",
        "\n",
        "    # Tokenize the input text\n",
        "    inputs = tokenizer.encode(history, return_tensors=\"pt\")\n",
        "\n",
        "    # Generate a response using the model\n",
        "    with torch.no_grad():  # Disable gradient calculations for inference\n",
        "        outputs = model.generate(inputs, max_length=200, pad_token_id=tokenizer.eos_token_id)\n",
        "\n",
        "    # Decode the generated tokens\n",
        "    response = tokenizer.decode(outputs[0], skip_special_tokens=True)\n",
        "\n",
        "    # Extract the chatbot's response from the complete output\n",
        "    response = response.split(\"Chatbot:\")[-1].strip()\n",
        "\n",
        "    # Append the chatbot response to the conversation history\n",
        "    conversation_history.append(f\"Chatbot: {response}\")\n",
        "\n",
        "    return response\n",
        "\n",
        "# Example usage\n",
        "while True:\n",
        "    input_text = input(\"You: \")\n",
        "    if input_text.lower() in [\"exit\", \"quit\"]:\n",
        "        print(\"Chatbot: Goodbye!\")\n",
        "        break\n",
        "    response = generate_response(input_text)\n",
        "    print(\"Chatbot:\", response)\n"
      ]
    },
    {
      "cell_type": "markdown",
      "metadata": {
        "id": "4bp993m0QKOy"
      },
      "source": [
        "This function maintains the conversation history between the user and the bot. Type \"quit\" to end the conversation.\n",
        "\n",
        "---\n",
        "\n",
        "### 5. **Training the Chatbot (Fine-tuning)**\n",
        "\n",
        "To improve the chatbot further, we can fine-tune the model with custom conversational data. This section outlines how to fine-tune the model with specific data on Google Colab.\n",
        "\n",
        "1. **Preparing Data**: Save a CSV file containing conversations (input-response pairs) and upload it to Colab.\n",
        "\n",
        "2. **Fine-Tuning the Model**:\n",
        "\n",
        "```python"
      ]
    },
    {
      "cell_type": "code",
      "execution_count": null,
      "metadata": {
        "id": "WN_p_ay4TNYo"
      },
      "outputs": [],
      "source": [
        "import pandas as pd\n",
        "\n",
        "# Create a DataFrame with informational prompts and responses\n",
        "data = {\n",
        "    \"prompt\": [\n",
        "        \"What is Python?\",\n",
        "        \"What is the capital of France?\",\n",
        "        \"How does photosynthesis work?\",\n",
        "        \"What is machine learning?\",\n",
        "        \"What are the benefits of exercise?\",\n",
        "        \"What is climate change?\",\n",
        "        \"What is a balanced diet?\",\n",
        "        \"How can I improve my productivity?\",\n",
        "        \"What is the importance of sleep?\",\n",
        "        \"What is the internet of things?\"\n",
        "    ],\n",
        "    \"response\": [\n",
        "        \"Python is a high-level, interpreted programming language known for its readability and versatility. It is widely used in web development, data analysis, artificial intelligence, and more.\",\n",
        "        \"The capital of France is Paris, known for its art, fashion, and culture, as well as landmarks like the Eiffel Tower and the Louvre Museum.\",\n",
        "        \"Photosynthesis is the process by which green plants, algae, and some bacteria convert light energy into chemical energy. They use sunlight to convert carbon dioxide and water into glucose and oxygen.\",\n",
        "        \"Machine learning is a subset of artificial intelligence that enables computers to learn from and make predictions based on data. It uses algorithms to identify patterns and improve performance over time.\",\n",
        "        \"Regular exercise can improve physical health, boost mental well-being, increase energy levels, enhance mood, and reduce the risk of chronic diseases. It can also improve sleep quality and cognitive function.\",\n",
        "        \"Climate change refers to significant changes in global temperatures and weather patterns over time, largely driven by human activities such as burning fossil fuels, deforestation, and industrial processes.\",\n",
        "        \"A balanced diet includes a variety of foods in the right proportions to provide the nutrients your body needs for optimal health. It typically consists of fruits, vegetables, whole grains, protein sources, and healthy fats.\",\n",
        "        \"To improve productivity, consider setting clear goals, prioritizing tasks, minimizing distractions, using time management techniques, and taking regular breaks to maintain focus and energy.\",\n",
        "        \"Sleep is essential for overall health and well-being. It helps with physical recovery, cognitive function, emotional regulation, and memory consolidation. Lack of sleep can lead to various health issues.\",\n",
        "        \"The Internet of Things (IoT) refers to the network of interconnected devices that communicate and exchange data over the internet. These devices can include anything from smart home appliances to industrial machinery.\"\n",
        "    ]\n",
        "}\n",
        "\n",
        "# Create DataFrame\n",
        "df = pd.DataFrame(data)\n",
        "\n",
        "# Save the DataFrame to a CSV file\n",
        "df.to_csv(\"custom_dataset.csv\", index=False)\n"
      ]
    },
    {
      "cell_type": "code",
      "execution_count": null,
      "metadata": {
        "colab": {
          "base_uri": "https://localhost:8080/",
          "height": 206
        },
        "id": "WoFAOAG8WOB-",
        "outputId": "ad34f967-b8ec-4b7f-994e-cc74b58bf71b"
      },
      "outputs": [
        {
          "data": {
            "application/vnd.google.colaboratory.intrinsic+json": {
              "summary": "{\n  \"name\": \"df\",\n  \"rows\": 10,\n  \"fields\": [\n    {\n      \"column\": \"prompt\",\n      \"properties\": {\n        \"dtype\": \"string\",\n        \"num_unique_values\": 10,\n        \"samples\": [\n          \"What is the importance of sleep?\",\n          \"What is the capital of France?\",\n          \"What is climate change?\"\n        ],\n        \"semantic_type\": \"\",\n        \"description\": \"\"\n      }\n    },\n    {\n      \"column\": \"response\",\n      \"properties\": {\n        \"dtype\": \"string\",\n        \"num_unique_values\": 10,\n        \"samples\": [\n          \"Sleep is essential for overall health and well-being. It helps with physical recovery, cognitive function, emotional regulation, and memory consolidation. Lack of sleep can lead to various health issues.\",\n          \"The capital of France is Paris, known for its art, fashion, and culture, as well as landmarks like the Eiffel Tower and the Louvre Museum.\",\n          \"Climate change refers to significant changes in global temperatures and weather patterns over time, largely driven by human activities such as burning fossil fuels, deforestation, and industrial processes.\"\n        ],\n        \"semantic_type\": \"\",\n        \"description\": \"\"\n      }\n    }\n  ]\n}",
              "type": "dataframe",
              "variable_name": "df"
            },
            "text/html": [
              "\n",
              "  <div id=\"df-20faca65-b931-40ee-bcc2-a0f01de60be7\" class=\"colab-df-container\">\n",
              "    <div>\n",
              "<style scoped>\n",
              "    .dataframe tbody tr th:only-of-type {\n",
              "        vertical-align: middle;\n",
              "    }\n",
              "\n",
              "    .dataframe tbody tr th {\n",
              "        vertical-align: top;\n",
              "    }\n",
              "\n",
              "    .dataframe thead th {\n",
              "        text-align: right;\n",
              "    }\n",
              "</style>\n",
              "<table border=\"1\" class=\"dataframe\">\n",
              "  <thead>\n",
              "    <tr style=\"text-align: right;\">\n",
              "      <th></th>\n",
              "      <th>prompt</th>\n",
              "      <th>response</th>\n",
              "    </tr>\n",
              "  </thead>\n",
              "  <tbody>\n",
              "    <tr>\n",
              "      <th>0</th>\n",
              "      <td>What is Python?</td>\n",
              "      <td>Python is a high-level, interpreted programmin...</td>\n",
              "    </tr>\n",
              "    <tr>\n",
              "      <th>1</th>\n",
              "      <td>What is the capital of France?</td>\n",
              "      <td>The capital of France is Paris, known for its ...</td>\n",
              "    </tr>\n",
              "    <tr>\n",
              "      <th>2</th>\n",
              "      <td>How does photosynthesis work?</td>\n",
              "      <td>Photosynthesis is the process by which green p...</td>\n",
              "    </tr>\n",
              "    <tr>\n",
              "      <th>3</th>\n",
              "      <td>What is machine learning?</td>\n",
              "      <td>Machine learning is a subset of artificial int...</td>\n",
              "    </tr>\n",
              "    <tr>\n",
              "      <th>4</th>\n",
              "      <td>What are the benefits of exercise?</td>\n",
              "      <td>Regular exercise can improve physical health, ...</td>\n",
              "    </tr>\n",
              "  </tbody>\n",
              "</table>\n",
              "</div>\n",
              "    <div class=\"colab-df-buttons\">\n",
              "\n",
              "  <div class=\"colab-df-container\">\n",
              "    <button class=\"colab-df-convert\" onclick=\"convertToInteractive('df-20faca65-b931-40ee-bcc2-a0f01de60be7')\"\n",
              "            title=\"Convert this dataframe to an interactive table.\"\n",
              "            style=\"display:none;\">\n",
              "\n",
              "  <svg xmlns=\"http://www.w3.org/2000/svg\" height=\"24px\" viewBox=\"0 -960 960 960\">\n",
              "    <path d=\"M120-120v-720h720v720H120Zm60-500h600v-160H180v160Zm220 220h160v-160H400v160Zm0 220h160v-160H400v160ZM180-400h160v-160H180v160Zm440 0h160v-160H620v160ZM180-180h160v-160H180v160Zm440 0h160v-160H620v160Z\"/>\n",
              "  </svg>\n",
              "    </button>\n",
              "\n",
              "  <style>\n",
              "    .colab-df-container {\n",
              "      display:flex;\n",
              "      gap: 12px;\n",
              "    }\n",
              "\n",
              "    .colab-df-convert {\n",
              "      background-color: #E8F0FE;\n",
              "      border: none;\n",
              "      border-radius: 50%;\n",
              "      cursor: pointer;\n",
              "      display: none;\n",
              "      fill: #1967D2;\n",
              "      height: 32px;\n",
              "      padding: 0 0 0 0;\n",
              "      width: 32px;\n",
              "    }\n",
              "\n",
              "    .colab-df-convert:hover {\n",
              "      background-color: #E2EBFA;\n",
              "      box-shadow: 0px 1px 2px rgba(60, 64, 67, 0.3), 0px 1px 3px 1px rgba(60, 64, 67, 0.15);\n",
              "      fill: #174EA6;\n",
              "    }\n",
              "\n",
              "    .colab-df-buttons div {\n",
              "      margin-bottom: 4px;\n",
              "    }\n",
              "\n",
              "    [theme=dark] .colab-df-convert {\n",
              "      background-color: #3B4455;\n",
              "      fill: #D2E3FC;\n",
              "    }\n",
              "\n",
              "    [theme=dark] .colab-df-convert:hover {\n",
              "      background-color: #434B5C;\n",
              "      box-shadow: 0px 1px 3px 1px rgba(0, 0, 0, 0.15);\n",
              "      filter: drop-shadow(0px 1px 2px rgba(0, 0, 0, 0.3));\n",
              "      fill: #FFFFFF;\n",
              "    }\n",
              "  </style>\n",
              "\n",
              "    <script>\n",
              "      const buttonEl =\n",
              "        document.querySelector('#df-20faca65-b931-40ee-bcc2-a0f01de60be7 button.colab-df-convert');\n",
              "      buttonEl.style.display =\n",
              "        google.colab.kernel.accessAllowed ? 'block' : 'none';\n",
              "\n",
              "      async function convertToInteractive(key) {\n",
              "        const element = document.querySelector('#df-20faca65-b931-40ee-bcc2-a0f01de60be7');\n",
              "        const dataTable =\n",
              "          await google.colab.kernel.invokeFunction('convertToInteractive',\n",
              "                                                    [key], {});\n",
              "        if (!dataTable) return;\n",
              "\n",
              "        const docLinkHtml = 'Like what you see? Visit the ' +\n",
              "          '<a target=\"_blank\" href=https://colab.research.google.com/notebooks/data_table.ipynb>data table notebook</a>'\n",
              "          + ' to learn more about interactive tables.';\n",
              "        element.innerHTML = '';\n",
              "        dataTable['output_type'] = 'display_data';\n",
              "        await google.colab.output.renderOutput(dataTable, element);\n",
              "        const docLink = document.createElement('div');\n",
              "        docLink.innerHTML = docLinkHtml;\n",
              "        element.appendChild(docLink);\n",
              "      }\n",
              "    </script>\n",
              "  </div>\n",
              "\n",
              "\n",
              "<div id=\"df-cc5e0808-8b85-4420-b165-c5d40223e8c0\">\n",
              "  <button class=\"colab-df-quickchart\" onclick=\"quickchart('df-cc5e0808-8b85-4420-b165-c5d40223e8c0')\"\n",
              "            title=\"Suggest charts\"\n",
              "            style=\"display:none;\">\n",
              "\n",
              "<svg xmlns=\"http://www.w3.org/2000/svg\" height=\"24px\"viewBox=\"0 0 24 24\"\n",
              "     width=\"24px\">\n",
              "    <g>\n",
              "        <path d=\"M19 3H5c-1.1 0-2 .9-2 2v14c0 1.1.9 2 2 2h14c1.1 0 2-.9 2-2V5c0-1.1-.9-2-2-2zM9 17H7v-7h2v7zm4 0h-2V7h2v10zm4 0h-2v-4h2v4z\"/>\n",
              "    </g>\n",
              "</svg>\n",
              "  </button>\n",
              "\n",
              "<style>\n",
              "  .colab-df-quickchart {\n",
              "      --bg-color: #E8F0FE;\n",
              "      --fill-color: #1967D2;\n",
              "      --hover-bg-color: #E2EBFA;\n",
              "      --hover-fill-color: #174EA6;\n",
              "      --disabled-fill-color: #AAA;\n",
              "      --disabled-bg-color: #DDD;\n",
              "  }\n",
              "\n",
              "  [theme=dark] .colab-df-quickchart {\n",
              "      --bg-color: #3B4455;\n",
              "      --fill-color: #D2E3FC;\n",
              "      --hover-bg-color: #434B5C;\n",
              "      --hover-fill-color: #FFFFFF;\n",
              "      --disabled-bg-color: #3B4455;\n",
              "      --disabled-fill-color: #666;\n",
              "  }\n",
              "\n",
              "  .colab-df-quickchart {\n",
              "    background-color: var(--bg-color);\n",
              "    border: none;\n",
              "    border-radius: 50%;\n",
              "    cursor: pointer;\n",
              "    display: none;\n",
              "    fill: var(--fill-color);\n",
              "    height: 32px;\n",
              "    padding: 0;\n",
              "    width: 32px;\n",
              "  }\n",
              "\n",
              "  .colab-df-quickchart:hover {\n",
              "    background-color: var(--hover-bg-color);\n",
              "    box-shadow: 0 1px 2px rgba(60, 64, 67, 0.3), 0 1px 3px 1px rgba(60, 64, 67, 0.15);\n",
              "    fill: var(--button-hover-fill-color);\n",
              "  }\n",
              "\n",
              "  .colab-df-quickchart-complete:disabled,\n",
              "  .colab-df-quickchart-complete:disabled:hover {\n",
              "    background-color: var(--disabled-bg-color);\n",
              "    fill: var(--disabled-fill-color);\n",
              "    box-shadow: none;\n",
              "  }\n",
              "\n",
              "  .colab-df-spinner {\n",
              "    border: 2px solid var(--fill-color);\n",
              "    border-color: transparent;\n",
              "    border-bottom-color: var(--fill-color);\n",
              "    animation:\n",
              "      spin 1s steps(1) infinite;\n",
              "  }\n",
              "\n",
              "  @keyframes spin {\n",
              "    0% {\n",
              "      border-color: transparent;\n",
              "      border-bottom-color: var(--fill-color);\n",
              "      border-left-color: var(--fill-color);\n",
              "    }\n",
              "    20% {\n",
              "      border-color: transparent;\n",
              "      border-left-color: var(--fill-color);\n",
              "      border-top-color: var(--fill-color);\n",
              "    }\n",
              "    30% {\n",
              "      border-color: transparent;\n",
              "      border-left-color: var(--fill-color);\n",
              "      border-top-color: var(--fill-color);\n",
              "      border-right-color: var(--fill-color);\n",
              "    }\n",
              "    40% {\n",
              "      border-color: transparent;\n",
              "      border-right-color: var(--fill-color);\n",
              "      border-top-color: var(--fill-color);\n",
              "    }\n",
              "    60% {\n",
              "      border-color: transparent;\n",
              "      border-right-color: var(--fill-color);\n",
              "    }\n",
              "    80% {\n",
              "      border-color: transparent;\n",
              "      border-right-color: var(--fill-color);\n",
              "      border-bottom-color: var(--fill-color);\n",
              "    }\n",
              "    90% {\n",
              "      border-color: transparent;\n",
              "      border-bottom-color: var(--fill-color);\n",
              "    }\n",
              "  }\n",
              "</style>\n",
              "\n",
              "  <script>\n",
              "    async function quickchart(key) {\n",
              "      const quickchartButtonEl =\n",
              "        document.querySelector('#' + key + ' button');\n",
              "      quickchartButtonEl.disabled = true;  // To prevent multiple clicks.\n",
              "      quickchartButtonEl.classList.add('colab-df-spinner');\n",
              "      try {\n",
              "        const charts = await google.colab.kernel.invokeFunction(\n",
              "            'suggestCharts', [key], {});\n",
              "      } catch (error) {\n",
              "        console.error('Error during call to suggestCharts:', error);\n",
              "      }\n",
              "      quickchartButtonEl.classList.remove('colab-df-spinner');\n",
              "      quickchartButtonEl.classList.add('colab-df-quickchart-complete');\n",
              "    }\n",
              "    (() => {\n",
              "      let quickchartButtonEl =\n",
              "        document.querySelector('#df-cc5e0808-8b85-4420-b165-c5d40223e8c0 button');\n",
              "      quickchartButtonEl.style.display =\n",
              "        google.colab.kernel.accessAllowed ? 'block' : 'none';\n",
              "    })();\n",
              "  </script>\n",
              "</div>\n",
              "\n",
              "    </div>\n",
              "  </div>\n"
            ],
            "text/plain": [
              "                               prompt  \\\n",
              "0                     What is Python?   \n",
              "1      What is the capital of France?   \n",
              "2       How does photosynthesis work?   \n",
              "3           What is machine learning?   \n",
              "4  What are the benefits of exercise?   \n",
              "\n",
              "                                            response  \n",
              "0  Python is a high-level, interpreted programmin...  \n",
              "1  The capital of France is Paris, known for its ...  \n",
              "2  Photosynthesis is the process by which green p...  \n",
              "3  Machine learning is a subset of artificial int...  \n",
              "4  Regular exercise can improve physical health, ...  "
            ]
          },
          "execution_count": 62,
          "metadata": {},
          "output_type": "execute_result"
        }
      ],
      "source": [
        "import pandas as pd\n",
        "\n",
        "# Load the CSV file\n",
        "df = pd.read_csv(\"custom_dataset.csv\")  # Make sure this matches the uploaded file name\n",
        "\n",
        "# Display the DataFrame\n",
        "df.head()\n"
      ]
    },
    {
      "cell_type": "code",
      "execution_count": null,
      "metadata": {
        "colab": {
          "base_uri": "https://localhost:8080/"
        },
        "id": "aDh9urvAX9Hm",
        "outputId": "ae980419-b820-4b00-f8e9-73be87d063a9"
      },
      "outputs": [
        {
          "name": "stderr",
          "output_type": "stream",
          "text": [
            "/usr/local/lib/python3.10/dist-packages/transformers/tokenization_utils_base.py:1601: FutureWarning: `clean_up_tokenization_spaces` was not set. It will be set to `True` by default. This behavior will be depracted in transformers v4.45, and will be then set to `False` by default. For more details check this issue: https://github.com/huggingface/transformers/issues/31884\n",
            "  warnings.warn(\n",
            "Hardware accelerator e.g. GPU is available in the environment, but no `device` argument is passed to the `Pipeline` object. Model will be on CPU.\n"
          ]
        }
      ],
      "source": [
        "from transformers import pipeline\n",
        "\n",
        "# Load the model\n",
        "model_name = \"gpt2\"  # You can change to any other available model\n",
        "chatbot = pipeline(\"text-generation\", model=model_name)\n",
        "\n",
        "def chatbot_response(user_input):\n",
        "    # Check for a matching prompt in the DataFrame\n",
        "    responses = df[df['prompt'].str.lower() == user_input.lower()]['response']\n",
        "\n",
        "    if not responses.empty:\n",
        "        return responses.iloc[0]  # Return the first matching response\n",
        "\n",
        "    # If no match is found, generate a creative response\n",
        "    response = chatbot(user_input, max_length=50, num_return_sequences=1)[0]['generated_text']\n",
        "    return response.strip()\n"
      ]
    },
    {
      "cell_type": "code",
      "execution_count": null,
      "metadata": {
        "colab": {
          "base_uri": "https://localhost:8080/"
        },
        "id": "89vXFr9qchxo",
        "outputId": "8bae5ef8-6d63-4593-8bc2-34c67cbd78a4"
      },
      "outputs": [
        {
          "name": "stdout",
          "output_type": "stream",
          "text": [
            "Welcome to the chatbot! Type 'exit' to stop.\n",
            "You: What is Python?\n",
            "Chatbot: Python is a high-level, interpreted programming language known for its readability and versatility. It is widely used in web development, data analysis, artificial intelligence, and more.\n",
            "You: What is machine learning?\n",
            "Chatbot: Machine learning is a subset of artificial intelligence that enables computers to learn from and make predictions based on data. It uses algorithms to identify patterns and improve performance over time.\n",
            "You: exit\n"
          ]
        }
      ],
      "source": [
        "print(\"Welcome to the chatbot! Type 'exit' to stop.\")\n",
        "while True:\n",
        "    user_input = input(\"You: \")\n",
        "    if user_input.lower() == 'exit':\n",
        "        break\n",
        "    response = chatbot_response(user_input)\n",
        "    print(\"Chatbot:\", response)\n"
      ]
    },
    {
      "cell_type": "code",
      "execution_count": null,
      "metadata": {
        "id": "LFRNPlrceFpT"
      },
      "outputs": [],
      "source": []
    }
  ],
  "metadata": {
    "accelerator": "GPU",
    "colab": {
      "gpuType": "T4",
      "provenance": [],
      "include_colab_link": true
    },
    "kernelspec": {
      "display_name": "Python (Pyodide)",
      "language": "python",
      "name": "python"
    },
    "language_info": {
      "codemirror_mode": {
        "name": "python",
        "version": 3
      },
      "file_extension": ".py",
      "mimetype": "text/x-python",
      "name": "python",
      "nbconvert_exporter": "python",
      "pygments_lexer": "ipython3",
      "version": "3.8"
    }
  },
  "nbformat": 4,
  "nbformat_minor": 0
}