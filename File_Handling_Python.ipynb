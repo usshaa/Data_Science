{
  "nbformat": 4,
  "nbformat_minor": 0,
  "metadata": {
    "colab": {
      "provenance": [],
      "authorship_tag": "ABX9TyPsCYeZPb4D7QAGVOHAege1",
      "include_colab_link": true
    },
    "kernelspec": {
      "name": "python3",
      "display_name": "Python 3"
    },
    "language_info": {
      "name": "python"
    }
  },
  "cells": [
    {
      "cell_type": "markdown",
      "metadata": {
        "id": "view-in-github",
        "colab_type": "text"
      },
      "source": [
        "<a href=\"https://colab.research.google.com/github/usshaa/Data_Science/blob/main/File_Handling_Python.ipynb\" target=\"_parent\"><img src=\"https://colab.research.google.com/assets/colab-badge.svg\" alt=\"Open In Colab\"/></a>"
      ]
    },
    {
      "cell_type": "markdown",
      "source": [
        "# Python File Handling - From Basic to Advanced\n",
        "\n",
        "This notebook guides you through Python file handling, starting with basic concepts and progressively moving to more advanced topics. Each section builds on previous knowledge with simple code examples.\n",
        "\n",
        "**1. Understanding File Objects and Methods**\n",
        "\n",
        "In Python, we access files through file objects. These objects provide methods to interact with files.\n",
        "\n",
        "\n",
        "- Key file methods include:\n",
        "- open() - Creates a file object\n",
        "- read() - Reads file content\n",
        "- write() - Writes to a file\n",
        "- close() - Closes the file\n",
        "- tell() - Returns current position\n",
        "- seek() - Changes position in file"
      ],
      "metadata": {
        "id": "USDBgAhQJruy"
      }
    },
    {
      "source": [
        "print(\"File handling starts with creating a file object using open()\")"
      ],
      "cell_type": "code",
      "metadata": {
        "colab": {
          "base_uri": "https://localhost:8080/"
        },
        "id": "LjHd9S1NApEo",
        "outputId": "9647637e-5197-4c22-d532-8799daeb295e"
      },
      "execution_count": 1,
      "outputs": [
        {
          "output_type": "stream",
          "name": "stdout",
          "text": [
            "File handling starts with creating a file object using open()\n"
          ]
        }
      ]
    },
    {
      "cell_type": "markdown",
      "source": [
        "**2. Opening and Closing Files**\n",
        "\n",
        "**Basic File Opening**\n",
        "\n",
        "The first step in file handling is opening a file to create a file object.\n",
        "\n",
        "\n",
        "- Basic syntax: open(filename, mode)\n",
        "- Mode determines what operations are allowed"
      ],
      "metadata": {
        "id": "MmsmPjKyJ6ya"
      }
    },
    {
      "cell_type": "code",
      "source": [
        "# Opening a file for reading (default mode is 'r')\n",
        "file = open('example.txt', 'r')\n",
        "\n",
        "# Always close files when done to free system resources\n",
        "file.close()\n",
        "\n",
        "print(\"File was opened and closed\")"
      ],
      "metadata": {
        "colab": {
          "base_uri": "https://localhost:8080/"
        },
        "id": "Jn4KHWEiI7_N",
        "outputId": "08834daa-6515-4f72-bfea-5094cbaca119"
      },
      "execution_count": 5,
      "outputs": [
        {
          "output_type": "stream",
          "name": "stdout",
          "text": [
            "File was opened and closed\n"
          ]
        }
      ]
    },
    {
      "cell_type": "markdown",
      "source": [
        "**File Opening Modes**\n",
        "\n",
        "\n",
        "**Different file modes:**\n",
        "- 'r' - Read (default) - File must exist\n",
        "- 'w' - Write - Creates new file or overwrites existing\n",
        "- 'a' - Append - Adds to end of file\n",
        "- 'r+' - Read and write - File must exist\n",
        "- 'w+' - Read and write - Creates new or overwrites\n",
        "- 'a+' - Read and append\n",
        "\n",
        "- Adding 'b' to any mode opens file in binary mode\n",
        "- Example: 'rb', 'wb', 'ab'"
      ],
      "metadata": {
        "id": "qTGJAb8HKGLi"
      }
    },
    {
      "cell_type": "code",
      "source": [
        "print(\"Available file modes: r, w, a, r+, w+, a+\")\n",
        "print(\"Add 'b' for binary mode: rb, wb, ab\")"
      ],
      "metadata": {
        "colab": {
          "base_uri": "https://localhost:8080/"
        },
        "id": "hmon8lsDKRyM",
        "outputId": "0394df9d-c0b9-4812-b3ec-442517ce0472"
      },
      "execution_count": 3,
      "outputs": [
        {
          "output_type": "stream",
          "name": "stdout",
          "text": [
            "Available file modes: r, w, a, r+, w+, a+\n",
            "Add 'b' for binary mode: rb, wb, ab\n"
          ]
        }
      ]
    },
    {
      "cell_type": "markdown",
      "source": [
        "**Using the 'with' Statement (Recommended)**\n",
        "\n",
        "\n",
        "- The 'with' statement is the recommended way to open files\n",
        "- It automatically closes the file when the block ends"
      ],
      "metadata": {
        "id": "ItIMXkgYKZsK"
      }
    },
    {
      "cell_type": "code",
      "source": [
        "# Example using 'with' statement\n",
        "with open('example.txt', 'w') as file:\n",
        "    file.write(\"This is an example file.\\n\")\n",
        "    file.write(\"Using the 'with' statement is recommended.\\n\")\n",
        "    file.write(\"It automatically closes the file when done.\")\n",
        "\n",
        "print(\"File created using 'with' statement. The file is now automatically closed.\")"
      ],
      "metadata": {
        "colab": {
          "base_uri": "https://localhost:8080/"
        },
        "id": "6kqE_PIHKfFx",
        "outputId": "57d95557-5123-470d-fbf2-19efd59dd4b6"
      },
      "execution_count": 4,
      "outputs": [
        {
          "output_type": "stream",
          "name": "stdout",
          "text": [
            "File created using 'with' statement. The file is now automatically closed.\n"
          ]
        }
      ]
    },
    {
      "cell_type": "markdown",
      "source": [
        "**3. Writing to Files**\n",
        "\n",
        "**Basic File Writing**"
      ],
      "metadata": {
        "id": "1tNQleTNKmuw"
      }
    },
    {
      "cell_type": "code",
      "source": [
        "# Let's start by writing to a file\n",
        "with open('notes.txt', 'w') as file:\n",
        "    file.write(\"This is my first line.\\n\")\n",
        "    file.write(\"This is my second line.\\n\")\n",
        "    file.write(\"This is my third line.\")\n",
        "\n",
        "print(\"Successfully wrote to notes.txt\")"
      ],
      "metadata": {
        "colab": {
          "base_uri": "https://localhost:8080/"
        },
        "id": "133DilwDI-_i",
        "outputId": "740320ee-6cae-457e-990d-f59b894ccd97"
      },
      "execution_count": 6,
      "outputs": [
        {
          "output_type": "stream",
          "name": "stdout",
          "text": [
            "Successfully wrote to notes.txt\n"
          ]
        }
      ]
    },
    {
      "cell_type": "markdown",
      "source": [
        "**Writing Multiple Lines at Once**"
      ],
      "metadata": {
        "id": "3EEhG3_uKvIq"
      }
    },
    {
      "cell_type": "code",
      "source": [
        "# Writing multiple lines using writelines()\n",
        "lines = [\n",
        "    \"This is line one.\\n\",\n",
        "    \"This is line two.\\n\",\n",
        "    \"This is line three.\\n\",\n",
        "    \"This is line four.\"\n",
        "]\n",
        "\n",
        "with open('multiple_lines.txt', 'w') as file:\n",
        "    file.writelines(lines)\n",
        "\n",
        "print(\"Successfully wrote multiple lines at once\")"
      ],
      "metadata": {
        "colab": {
          "base_uri": "https://localhost:8080/"
        },
        "id": "TMTtcxxaKtHD",
        "outputId": "3c17cf92-e8f0-4f46-ec03-e1a371cc34d3"
      },
      "execution_count": 7,
      "outputs": [
        {
          "output_type": "stream",
          "name": "stdout",
          "text": [
            "Successfully wrote multiple lines at once\n"
          ]
        }
      ]
    },
    {
      "cell_type": "markdown",
      "source": [
        "**Appending to Files**"
      ],
      "metadata": {
        "id": "T_tO7DN9KyRB"
      }
    },
    {
      "cell_type": "code",
      "source": [
        "# Appending to an existing file\n",
        "with open('notes.txt', 'a') as file:\n",
        "    file.write(\"\\nThis line is appended to the file.\\n\")\n",
        "    file.write(\"We can add as many lines as we want.\")\n",
        "\n",
        "print(\"Successfully appended to notes.txt\")"
      ],
      "metadata": {
        "colab": {
          "base_uri": "https://localhost:8080/"
        },
        "id": "fGLgIzobK0nX",
        "outputId": "dca38253-44a6-436c-d935-dd6a67526346"
      },
      "execution_count": 8,
      "outputs": [
        {
          "output_type": "stream",
          "name": "stdout",
          "text": [
            "Successfully appended to notes.txt\n"
          ]
        }
      ]
    },
    {
      "cell_type": "markdown",
      "source": [
        "**4. Reading Files**\n",
        "\n",
        "**Reading an Entire File**"
      ],
      "metadata": {
        "id": "iyP1d4P2K6vu"
      }
    },
    {
      "cell_type": "code",
      "source": [
        "# Reading the entire file content at once\n",
        "with open('notes.txt', 'r') as file:\n",
        "    content = file.read()\n",
        "\n",
        "print(\"Content of notes.txt:\")\n",
        "print(content)"
      ],
      "metadata": {
        "colab": {
          "base_uri": "https://localhost:8080/"
        },
        "id": "4NKvBo27JBi1",
        "outputId": "8673f9dd-1e4e-492a-bbcd-35ada668d447"
      },
      "execution_count": 9,
      "outputs": [
        {
          "output_type": "stream",
          "name": "stdout",
          "text": [
            "Content of notes.txt:\n",
            "This is my first line.\n",
            "This is my second line.\n",
            "This is my third line.\n",
            "This line is appended to the file.\n",
            "We can add as many lines as we want.\n"
          ]
        }
      ]
    },
    {
      "cell_type": "markdown",
      "source": [
        "**Reading a File Line by Line**"
      ],
      "metadata": {
        "id": "0uqI32BrK-Fz"
      }
    },
    {
      "cell_type": "code",
      "source": [
        "# Method 1: Reading line by line with a for loop\n",
        "print(\"\\nReading line by line using a for loop:\")\n",
        "with open('notes.txt', 'r') as file:\n",
        "    for line in file:\n",
        "        print(f\"Line: {line.strip()}\")  # strip() removes newline characters"
      ],
      "metadata": {
        "colab": {
          "base_uri": "https://localhost:8080/"
        },
        "id": "ARjkYPT6LBFa",
        "outputId": "f1d6deed-e355-4383-adf2-2f6919936c89"
      },
      "execution_count": 11,
      "outputs": [
        {
          "output_type": "stream",
          "name": "stdout",
          "text": [
            "\n",
            "Reading line by line using a for loop:\n",
            "Line: This is my first line.\n",
            "Line: This is my second line.\n",
            "Line: This is my third line.\n",
            "Line: This line is appended to the file.\n",
            "Line: We can add as many lines as we want.\n"
          ]
        }
      ]
    },
    {
      "cell_type": "code",
      "source": [
        "# Method 2: Using readline() method\n",
        "print(\"\\nReading line by line using readline():\")\n",
        "with open('notes.txt', 'r') as file:\n",
        "    line = file.readline()\n",
        "    while line:\n",
        "        print(f\"Line: {line.strip()}\")\n",
        "        line = file.readline()"
      ],
      "metadata": {
        "colab": {
          "base_uri": "https://localhost:8080/"
        },
        "id": "8UCwDZWpLDD7",
        "outputId": "f46d009b-191b-497f-be05-c279ba775691"
      },
      "execution_count": 12,
      "outputs": [
        {
          "output_type": "stream",
          "name": "stdout",
          "text": [
            "\n",
            "Reading line by line using readline():\n",
            "Line: This is my first line.\n",
            "Line: This is my second line.\n",
            "Line: This is my third line.\n",
            "Line: This line is appended to the file.\n",
            "Line: We can add as many lines as we want.\n"
          ]
        }
      ]
    },
    {
      "cell_type": "code",
      "source": [
        "# Method 3: Using readlines() to get a list of all lines\n",
        "print(\"\\nReading all lines into a list:\")\n",
        "with open('notes.txt', 'r') as file:\n",
        "    lines = file.readlines()\n",
        "\n",
        "print(f\"Number of lines: {len(lines)}\")\n",
        "for i, line in enumerate(lines):\n",
        "    print(f\"Line {i+1}: {line.strip()}\")"
      ],
      "metadata": {
        "colab": {
          "base_uri": "https://localhost:8080/"
        },
        "id": "G_WPKbXwLG4F",
        "outputId": "86b774fa-1ad5-4fd3-a3fa-9388bd83f005"
      },
      "execution_count": 13,
      "outputs": [
        {
          "output_type": "stream",
          "name": "stdout",
          "text": [
            "\n",
            "Reading all lines into a list:\n",
            "Number of lines: 5\n",
            "Line 1: This is my first line.\n",
            "Line 2: This is my second line.\n",
            "Line 3: This is my third line.\n",
            "Line 4: This line is appended to the file.\n",
            "Line 5: We can add as many lines as we want.\n"
          ]
        }
      ]
    },
    {
      "cell_type": "markdown",
      "source": [
        "**Reading Specific Amount of Data**"
      ],
      "metadata": {
        "id": "R0KBYuO3LJMJ"
      }
    },
    {
      "cell_type": "code",
      "source": [
        "# Reading specific number of characters\n",
        "with open('notes.txt', 'r') as file:\n",
        "    # Read first 10 characters\n",
        "    first_part = file.read(10)\n",
        "    # Read next 10 characters\n",
        "    second_part = file.read(10)\n",
        "\n",
        "print(\"\\nReading in chunks:\")\n",
        "print(f\"First 10 characters: '{first_part}'\")\n",
        "print(f\"Next 10 characters: '{second_part}'\")"
      ],
      "metadata": {
        "colab": {
          "base_uri": "https://localhost:8080/"
        },
        "id": "I0B1XbkDLLrL",
        "outputId": "22e32de1-3e8b-4208-fc8b-5f72591955ec"
      },
      "execution_count": 14,
      "outputs": [
        {
          "output_type": "stream",
          "name": "stdout",
          "text": [
            "\n",
            "Reading in chunks:\n",
            "First 10 characters: 'This is my'\n",
            "Next 10 characters: ' first lin'\n"
          ]
        }
      ]
    },
    {
      "cell_type": "markdown",
      "source": [
        "**5. File Positions and Navigation**\n",
        "\n",
        "**Understanding File Position**\n",
        "\n",
        "\n",
        "- File position refers to the current location in the file\n",
        "- Initially the position is at the beginning (position 0)\n",
        "- As you read or write, the position moves forward"
      ],
      "metadata": {
        "id": "3iqRn0c-LTCO"
      }
    },
    {
      "cell_type": "code",
      "source": [
        "with open('notes.txt', 'r') as file:\n",
        "    print(\"\\nFile position demonstration:\")\n",
        "\n",
        "    # Check initial position\n",
        "    position = file.tell()\n",
        "    print(f\"Initial position: {position}\")\n",
        "\n",
        "    # Read 10 characters\n",
        "    data = file.read(10)\n",
        "    print(f\"Read: '{data}'\")\n",
        "\n",
        "    # Check new position\n",
        "    position = file.tell()\n",
        "    print(f\"New position: {position}\")"
      ],
      "metadata": {
        "colab": {
          "base_uri": "https://localhost:8080/"
        },
        "id": "hA8ZtTFfJEnM",
        "outputId": "697d2dae-6d80-4e15-c024-b7afc52b86fc"
      },
      "execution_count": 15,
      "outputs": [
        {
          "output_type": "stream",
          "name": "stdout",
          "text": [
            "\n",
            "File position demonstration:\n",
            "Initial position: 0\n",
            "Read: 'This is my'\n",
            "New position: 10\n"
          ]
        }
      ]
    },
    {
      "cell_type": "markdown",
      "source": [
        "**Moving Around in Files (Seeking)**"
      ],
      "metadata": {
        "id": "e9Ye3cbBLWGT"
      }
    },
    {
      "cell_type": "code",
      "source": [
        "# Moving to specific positions using seek()\n",
        "with open('notes.txt', 'r') as file:\n",
        "    print(\"\\nMoving around in files:\")\n",
        "\n",
        "    # Move to position 5\n",
        "    file.seek(5)\n",
        "    print(f\"After seek(5), position is: {file.tell()}\")\n",
        "    print(f\"Reading from position 5: '{file.read(10)}'\")\n",
        "\n",
        "    # Move to beginning\n",
        "    file.seek(0)\n",
        "    print(f\"After seek(0), back to beginning: {file.tell()}\")\n",
        "    print(f\"Reading from beginning: '{file.read(10)}'\")\n",
        "\n",
        "    # Move to position 15\n",
        "    file.seek(15)\n",
        "    print(f\"After seek(15), position is: {file.tell()}\")\n",
        "    print(f\"Reading from position 15: '{file.read(10)}'\")"
      ],
      "metadata": {
        "colab": {
          "base_uri": "https://localhost:8080/"
        },
        "id": "ZyfeU_mDLZ8I",
        "outputId": "3f4f035c-51c8-4e4b-c04a-df6ae7ae5f1a"
      },
      "execution_count": 16,
      "outputs": [
        {
          "output_type": "stream",
          "name": "stdout",
          "text": [
            "\n",
            "Moving around in files:\n",
            "After seek(5), position is: 5\n",
            "Reading from position 5: 'is my firs'\n",
            "After seek(0), back to beginning: 0\n",
            "Reading from beginning: 'This is my'\n",
            "After seek(15), position is: 15\n",
            "Reading from position 15: 't line.\n",
            "Th'\n"
          ]
        }
      ]
    },
    {
      "cell_type": "markdown",
      "source": [
        "**Sequential vs. Random Access**\n",
        "\n",
        "\n",
        "- Sequential access: reading/writing data in order\n",
        "- Random access: jumping to specific positions using seek()"
      ],
      "metadata": {
        "id": "-F5OzoueLccj"
      }
    },
    {
      "cell_type": "code",
      "source": [
        "print(\"\\nSequential vs. Random Access:\")"
      ],
      "metadata": {
        "colab": {
          "base_uri": "https://localhost:8080/"
        },
        "id": "yiFFoAzbLj2R",
        "outputId": "40fa7cae-6617-40a7-ed97-aa7c75765afb"
      },
      "execution_count": 17,
      "outputs": [
        {
          "output_type": "stream",
          "name": "stdout",
          "text": [
            "\n",
            "Sequential vs. Random Access:\n"
          ]
        }
      ]
    },
    {
      "cell_type": "code",
      "source": [
        "# Sequential access example (most common)\n",
        "with open('notes.txt', 'r') as file:\n",
        "    print(\"Sequential access - reading first 3 lines:\")\n",
        "    for _ in range(3):\n",
        "        print(file.readline().strip())"
      ],
      "metadata": {
        "colab": {
          "base_uri": "https://localhost:8080/"
        },
        "id": "uOw_f9oMLnOW",
        "outputId": "b57d472e-9453-42f1-cae2-fa98ab896fbe"
      },
      "execution_count": 18,
      "outputs": [
        {
          "output_type": "stream",
          "name": "stdout",
          "text": [
            "Sequential access - reading first 3 lines:\n",
            "This is my first line.\n",
            "This is my second line.\n",
            "This is my third line.\n"
          ]
        }
      ]
    },
    {
      "cell_type": "code",
      "source": [
        "# Random access example\n",
        "with open('notes.txt', 'r') as file:\n",
        "    print(\"\\nRandom access - reading from different positions:\")\n",
        "\n",
        "    # Read from beginning\n",
        "    file.seek(0)\n",
        "    print(f\"From position 0: '{file.read(10)}'\")\n",
        "\n",
        "    # Jump to middle\n",
        "    file.seek(20)\n",
        "    print(f\"From position 20: '{file.read(10)}'\")\n",
        "\n",
        "    # Jump to another position\n",
        "    file.seek(40)\n",
        "    print(f\"From position 40: '{file.read(10)}'\")"
      ],
      "metadata": {
        "colab": {
          "base_uri": "https://localhost:8080/"
        },
        "id": "daLuDuLRLpOM",
        "outputId": "f6c9651b-19c1-48a9-a5f8-b14112a7206d"
      },
      "execution_count": 19,
      "outputs": [
        {
          "output_type": "stream",
          "name": "stdout",
          "text": [
            "\n",
            "Random access - reading from different positions:\n",
            "From position 0: 'This is my'\n",
            "From position 20: 'e.\n",
            "This is'\n",
            "From position 40: ' line.\n",
            "Thi'\n"
          ]
        }
      ]
    },
    {
      "cell_type": "markdown",
      "source": [
        "**6. Working with Binary Files**\n",
        "\n",
        "**Understanding Binary Mode**\n",
        "\n",
        "\n",
        "- Text files store characters, binary files store bytes\n",
        "- Use binary mode ('b') for non-text files like images"
      ],
      "metadata": {
        "id": "Z9ExJZwULxYC"
      }
    },
    {
      "cell_type": "code",
      "source": [
        "print(\"\\nBinary mode is used for non-text files\")\n",
        "print(\"Add 'b' to the mode: 'rb', 'wb', 'ab'\")"
      ],
      "metadata": {
        "colab": {
          "base_uri": "https://localhost:8080/"
        },
        "id": "QuP0Ynz7JIeo",
        "outputId": "3e1b1a06-6006-40c5-a646-1602e3507243"
      },
      "execution_count": 20,
      "outputs": [
        {
          "output_type": "stream",
          "name": "stdout",
          "text": [
            "\n",
            "Binary mode is used for non-text files\n",
            "Add 'b' to the mode: 'rb', 'wb', 'ab'\n"
          ]
        }
      ]
    },
    {
      "cell_type": "markdown",
      "source": [
        "**Writing Binary Data**"
      ],
      "metadata": {
        "id": "sXCPUDZyLzm0"
      }
    },
    {
      "cell_type": "code",
      "source": [
        "# Writing binary data\n",
        "with open('binary_example.bin', 'wb') as file:\n",
        "    # Create some binary data\n",
        "    binary_data = bytes([65, 66, 67, 68, 69])  # ASCII for 'ABCDE'\n",
        "    file.write(binary_data)\n",
        "\n",
        "    # Writing string as binary requires encoding\n",
        "    text = \"Hello, Binary World!\"\n",
        "    file.write(text.encode('utf-8'))\n",
        "\n",
        "print(\"Binary data written to binary_example.bin\")"
      ],
      "metadata": {
        "colab": {
          "base_uri": "https://localhost:8080/"
        },
        "id": "GFCUWV4yL4lD",
        "outputId": "5c127a18-4472-446c-eb66-ad2bb0b52014"
      },
      "execution_count": 21,
      "outputs": [
        {
          "output_type": "stream",
          "name": "stdout",
          "text": [
            "Binary data written to binary_example.bin\n"
          ]
        }
      ]
    },
    {
      "cell_type": "markdown",
      "source": [
        "**Reading Binary Data**"
      ],
      "metadata": {
        "id": "i93qsSgmL8V_"
      }
    },
    {
      "cell_type": "code",
      "source": [
        "# Reading binary data\n",
        "with open('binary_example.bin', 'rb') as file:\n",
        "    # Read binary content\n",
        "    binary_content = file.read()\n",
        "\n",
        "print(\"\\nBinary data read:\")\n",
        "print(f\"Raw bytes: {binary_content}\")\n",
        "print(f\"Decoded as text: {binary_content.decode('utf-8')}\")"
      ],
      "metadata": {
        "colab": {
          "base_uri": "https://localhost:8080/"
        },
        "id": "G6TwVEcWL_WO",
        "outputId": "591008e8-ca86-4ae8-f65b-e1fbd5b79a1c"
      },
      "execution_count": 22,
      "outputs": [
        {
          "output_type": "stream",
          "name": "stdout",
          "text": [
            "\n",
            "Binary data read:\n",
            "Raw bytes: b'ABCDEHello, Binary World!'\n",
            "Decoded as text: ABCDEHello, Binary World!\n"
          ]
        }
      ]
    },
    {
      "cell_type": "markdown",
      "source": [
        "**Working with Image Files**"
      ],
      "metadata": {
        "id": "NFtYIGi-MCOm"
      }
    },
    {
      "cell_type": "code",
      "source": [
        "# Example of copying an image file\n",
        "def copy_image(source_path, destination_path):\n",
        "    # Open source in binary read mode\n",
        "    with open(source_path, 'rb') as source:\n",
        "        # Read binary data\n",
        "        image_data = source.read()\n",
        "\n",
        "        # Open destination in binary write mode\n",
        "        with open(destination_path, 'wb') as destination:\n",
        "            # Write binary data\n",
        "            destination.write(image_data)\n",
        "\n",
        "    print(f\"Image copied from {source_path} to {destination_path}\")"
      ],
      "metadata": {
        "id": "xV38otSTMFTb"
      },
      "execution_count": 23,
      "outputs": []
    },
    {
      "cell_type": "code",
      "source": [
        "# Create a sample binary file to act as our \"image\"\n",
        "with open('sample.jpg', 'wb') as file:\n",
        "    # Write some dummy data to represent an image\n",
        "    file.write(bytes(range(0, 100)))  # Just sample bytes\n",
        "\n",
        "print(\"\\nCreated a sample binary file\")\n",
        "\n",
        "# Copy the \"image\"\n",
        "copy_image('sample.jpg', 'sample_copy.jpg')"
      ],
      "metadata": {
        "colab": {
          "base_uri": "https://localhost:8080/"
        },
        "id": "dLS1wFGKMHpp",
        "outputId": "aee3b0c7-a961-4cbe-8bc7-18ddca2c49ad"
      },
      "execution_count": 24,
      "outputs": [
        {
          "output_type": "stream",
          "name": "stdout",
          "text": [
            "\n",
            "Created a sample binary file\n",
            "Image copied from sample.jpg to sample_copy.jpg\n"
          ]
        }
      ]
    },
    {
      "cell_type": "markdown",
      "source": [
        "**7. Working with CSV Files**\n",
        "\n",
        "**Understanding CSV Format**\n",
        "\n",
        "\n",
        "- CSV = Comma-Separated Values\n",
        "- Used for storing tabular data\n",
        "\n",
        "**Example CSV content:**\n",
        "- Name,Age,City\n",
        "- John,30,New York\n",
        "- Alice,25,Boston"
      ],
      "metadata": {
        "id": "l7loqGEhMQuj"
      }
    },
    {
      "cell_type": "code",
      "source": [
        "import csv  # Python's built-in CSV module\n",
        "\n",
        "print(\"\\nCSV files store tabular data like spreadsheets\")"
      ],
      "metadata": {
        "colab": {
          "base_uri": "https://localhost:8080/"
        },
        "id": "xlkzozutJK_G",
        "outputId": "7a05a130-673a-49c7-f485-c0e5a339e8a1"
      },
      "execution_count": 25,
      "outputs": [
        {
          "output_type": "stream",
          "name": "stdout",
          "text": [
            "\n",
            "CSV files store tabular data like spreadsheets\n"
          ]
        }
      ]
    },
    {
      "cell_type": "markdown",
      "source": [
        "**Writing CSV Files**"
      ],
      "metadata": {
        "id": "9A5SEJJzMUCl"
      }
    },
    {
      "cell_type": "code",
      "source": [
        "# Writing a simple CSV file\n",
        "with open('people.csv', 'w', newline='') as file:\n",
        "    # Create a CSV writer\n",
        "    writer = csv.writer(file)\n",
        "\n",
        "    # Write header row\n",
        "    writer.writerow(['Name', 'Age', 'City'])\n",
        "\n",
        "    # Write data rows\n",
        "    writer.writerow(['John', 30, 'New York'])\n",
        "    writer.writerow(['Alice', 25, 'Boston'])\n",
        "    writer.writerow(['Bob', 35, 'Chicago'])\n",
        "    writer.writerow(['Emma', 28, 'Los Angeles'])\n",
        "\n",
        "print(\"CSV file 'people.csv' created\")"
      ],
      "metadata": {
        "colab": {
          "base_uri": "https://localhost:8080/"
        },
        "id": "SCYkzBAnMXng",
        "outputId": "90589d9d-0c8d-438d-d8c8-bb043be72b72"
      },
      "execution_count": 26,
      "outputs": [
        {
          "output_type": "stream",
          "name": "stdout",
          "text": [
            "CSV file 'people.csv' created\n"
          ]
        }
      ]
    },
    {
      "cell_type": "markdown",
      "source": [
        "**Reading CSV Files**"
      ],
      "metadata": {
        "id": "PwmnIInTMaNv"
      }
    },
    {
      "cell_type": "code",
      "source": [
        "# Reading from a CSV file\n",
        "with open('people.csv', 'r', newline='') as file:\n",
        "    # Create a CSV reader\n",
        "    reader = csv.reader(file)\n",
        "\n",
        "    print(\"\\nReading CSV file 'people.csv':\")\n",
        "\n",
        "    # Read and display each row\n",
        "    for i, row in enumerate(reader):\n",
        "        if i == 0:\n",
        "            print(f\"Header: {row}\")\n",
        "        else:\n",
        "            print(f\"Row {i}: {row}\")"
      ],
      "metadata": {
        "colab": {
          "base_uri": "https://localhost:8080/"
        },
        "id": "C9n2Qru1MeE-",
        "outputId": "02d15e40-05ab-42f7-b2cc-53e31fc6af03"
      },
      "execution_count": 27,
      "outputs": [
        {
          "output_type": "stream",
          "name": "stdout",
          "text": [
            "\n",
            "Reading CSV file 'people.csv':\n",
            "Header: ['Name', 'Age', 'City']\n",
            "Row 1: ['John', '30', 'New York']\n",
            "Row 2: ['Alice', '25', 'Boston']\n",
            "Row 3: ['Bob', '35', 'Chicago']\n",
            "Row 4: ['Emma', '28', 'Los Angeles']\n"
          ]
        }
      ]
    },
    {
      "cell_type": "markdown",
      "source": [
        "**Using CSV DictReader and DictWriter**\n",
        "\n",
        "\n",
        "- CSV DictReader and DictWriter work with dictionaries\n",
        "- This is often more convenient than working with lists"
      ],
      "metadata": {
        "id": "mqrxKN0cMgNE"
      }
    },
    {
      "cell_type": "code",
      "source": [
        "# Writing CSV with DictWriter\n",
        "with open('products.csv', 'w', newline='') as file:\n",
        "    # Define field names\n",
        "    fieldnames = ['Product', 'Price', 'Quantity']\n",
        "\n",
        "    # Create a DictWriter\n",
        "    writer = csv.DictWriter(file, fieldnames=fieldnames)\n",
        "\n",
        "    # Write header\n",
        "    writer.writeheader()\n",
        "\n",
        "    # Write rows\n",
        "    writer.writerow({'Product': 'Laptop', 'Price': 1200, 'Quantity': 5})\n",
        "    writer.writerow({'Product': 'Phone', 'Price': 800, 'Quantity': 10})\n",
        "    writer.writerow({'Product': 'Tablet', 'Price': 500, 'Quantity': 7})\n",
        "\n",
        "print(\"\\nCreated 'products.csv' using DictWriter\")"
      ],
      "metadata": {
        "colab": {
          "base_uri": "https://localhost:8080/"
        },
        "id": "y6p3A3WYMkuB",
        "outputId": "a013c06e-ccee-441d-df43-8a1b7f935f6c"
      },
      "execution_count": 28,
      "outputs": [
        {
          "output_type": "stream",
          "name": "stdout",
          "text": [
            "\n",
            "Created 'products.csv' using DictWriter\n"
          ]
        }
      ]
    },
    {
      "cell_type": "code",
      "source": [
        "# Reading CSV with DictReader\n",
        "with open('products.csv', 'r', newline='') as file:\n",
        "    # Create a DictReader\n",
        "    reader = csv.DictReader(file)\n",
        "\n",
        "    print(\"\\nReading 'products.csv' using DictReader:\")\n",
        "    for row in reader:\n",
        "        print(f\"Product: {row['Product']}, Price: ${row['Price']}, Quantity: {row['Quantity']}\")"
      ],
      "metadata": {
        "colab": {
          "base_uri": "https://localhost:8080/"
        },
        "id": "3TUUccnKMnJm",
        "outputId": "c22497f6-7712-41fc-f7bc-f8c9124af47e"
      },
      "execution_count": 29,
      "outputs": [
        {
          "output_type": "stream",
          "name": "stdout",
          "text": [
            "\n",
            "Reading 'products.csv' using DictReader:\n",
            "Product: Laptop, Price: $1200, Quantity: 5\n",
            "Product: Phone, Price: $800, Quantity: 10\n",
            "Product: Tablet, Price: $500, Quantity: 7\n"
          ]
        }
      ]
    },
    {
      "cell_type": "markdown",
      "source": [
        "**8. Practical Applications**\n",
        "\n",
        "**Example 1: Simple Note-Taking App**"
      ],
      "metadata": {
        "id": "FY4npCOVMsPZ"
      }
    },
    {
      "cell_type": "code",
      "source": [
        "# Simple Note-Taking App\n",
        "def add_note(note):\n",
        "    with open('my_notes.txt', 'a') as file:\n",
        "        file.write(note + '\\n')\n",
        "    print(\"Note added!\")"
      ],
      "metadata": {
        "id": "U8_zFqfWJPcN"
      },
      "execution_count": 30,
      "outputs": []
    },
    {
      "cell_type": "code",
      "source": [
        "def read_notes():\n",
        "    try:\n",
        "        with open('my_notes.txt', 'r') as file:\n",
        "            notes = file.readlines()\n",
        "\n",
        "            print(\"\\nYour Notes:\")\n",
        "            print(\"-----------\")\n",
        "\n",
        "            if notes:\n",
        "                for i, note in enumerate(notes, 1):\n",
        "                    print(f\"{i}. {note.strip()}\")\n",
        "            else:\n",
        "                print(\"No notes found!\")\n",
        "    except FileNotFoundError:\n",
        "        print(\"No notes file found. Add some notes first!\")"
      ],
      "metadata": {
        "id": "f5-VoPIVMu2d"
      },
      "execution_count": 31,
      "outputs": []
    },
    {
      "cell_type": "code",
      "source": [
        "# Add some notes\n",
        "print(\"\\nSimple Note-Taking App:\")\n",
        "add_note(\"Remember to buy groceries\")\n",
        "add_note(\"Call mom on Sunday\")\n",
        "add_note(\"Finish Python homework\")\n",
        "\n",
        "# Read all notes\n",
        "read_notes()"
      ],
      "metadata": {
        "colab": {
          "base_uri": "https://localhost:8080/"
        },
        "id": "xhdapdwjMww2",
        "outputId": "5e12d1c6-0736-484b-f6c3-a1ea6c6e10e0"
      },
      "execution_count": 32,
      "outputs": [
        {
          "output_type": "stream",
          "name": "stdout",
          "text": [
            "\n",
            "Simple Note-Taking App:\n",
            "Note added!\n",
            "Note added!\n",
            "Note added!\n",
            "\n",
            "Your Notes:\n",
            "-----------\n",
            "1. Remember to buy groceries\n",
            "2. Call mom on Sunday\n",
            "3. Finish Python homework\n"
          ]
        }
      ]
    },
    {
      "cell_type": "markdown",
      "source": [
        "**Example 2: Simple Data Analysis with CSV**"
      ],
      "metadata": {
        "id": "sFwS_6IgMzZ5"
      }
    },
    {
      "cell_type": "code",
      "source": [
        "# Simple Data Analysis with CSV\n",
        "import csv"
      ],
      "metadata": {
        "id": "kkFpFzN4M5WJ"
      },
      "execution_count": 37,
      "outputs": []
    },
    {
      "cell_type": "code",
      "source": [
        "# Create a CSV file with sales data\n",
        "with open('sales.csv', 'w', newline='') as file:\n",
        "    writer = csv.writer(file)\n",
        "    writer.writerow(['Date', 'Product', 'Amount'])\n",
        "    writer.writerow(['2023-01-01', 'Laptop', 1200])\n",
        "    writer.writerow(['2023-01-01', 'Phone', 800])\n",
        "    writer.writerow(['2023-01-02', 'Laptop', 1200])\n",
        "    writer.writerow(['2023-01-02', 'Tablet', 500])\n",
        "    writer.writerow(['2023-01-03', 'Phone', 800])\n",
        "\n",
        "print(\"\\nCreated sales.csv with sample data\")"
      ],
      "metadata": {
        "colab": {
          "base_uri": "https://localhost:8080/"
        },
        "id": "sVUCHf_bNP98",
        "outputId": "7ccd5df9-faf4-423e-b2ec-3d961724636b"
      },
      "execution_count": 38,
      "outputs": [
        {
          "output_type": "stream",
          "name": "stdout",
          "text": [
            "\n",
            "Created sales.csv with sample data\n"
          ]
        }
      ]
    },
    {
      "cell_type": "code",
      "source": [
        "# Analyze sales data\n",
        "with open('sales.csv', 'r', newline='') as file:\n",
        "    reader = csv.reader(file)\n",
        "    next(reader)  # Skip header row\n",
        "\n",
        "    # Calculate total sales\n",
        "    total_sales = 0\n",
        "    product_sales = {}\n",
        "\n",
        "    for row in reader:\n",
        "        date, product, amount = row\n",
        "        amount = int(amount)\n",
        "        total_sales += amount\n",
        "\n",
        "        # Track sales by product\n",
        "        if product in product_sales:\n",
        "            product_sales[product] += amount\n",
        "        else:\n",
        "            product_sales[product] = amount\n",
        "\n",
        "    # Print results\n",
        "    print(\"\\nSales Analysis:\")\n",
        "    print(f\"Total Sales: ${total_sales}\")\n",
        "    print(\"\\nSales by Product:\")\n",
        "    for product, amount in product_sales.items():\n",
        "        print(f\"{product}: ${amount}\")"
      ],
      "metadata": {
        "colab": {
          "base_uri": "https://localhost:8080/"
        },
        "id": "1_0YM-54NSeV",
        "outputId": "38461f83-191a-44ac-d47c-21a0af1037b1"
      },
      "execution_count": 39,
      "outputs": [
        {
          "output_type": "stream",
          "name": "stdout",
          "text": [
            "\n",
            "Sales Analysis:\n",
            "Total Sales: $4500\n",
            "\n",
            "Sales by Product:\n",
            "Laptop: $2400\n",
            "Phone: $1600\n",
            "Tablet: $500\n"
          ]
        }
      ]
    },
    {
      "cell_type": "markdown",
      "source": [
        "**Example 3: Simple Log File Generator and Analyzer**"
      ],
      "metadata": {
        "id": "IioSM25UMzWa"
      }
    },
    {
      "cell_type": "code",
      "source": [
        "# Simple Log File Generator and Analyzer\n",
        "import random\n",
        "from datetime import datetime, timedelta"
      ],
      "metadata": {
        "id": "J-g_Uf4aNAz_"
      },
      "execution_count": 34,
      "outputs": []
    },
    {
      "cell_type": "code",
      "source": [
        "# Generate a sample log file\n",
        "def generate_log(days=3, entries_per_day=5):\n",
        "    log_types = ['INFO', 'WARNING', 'ERROR']\n",
        "    messages = {\n",
        "        'INFO': ['Server started', 'User logged in', 'Database connected', 'Request processed'],\n",
        "        'WARNING': ['Slow response', 'High memory usage', 'Connection unstable'],\n",
        "        'ERROR': ['Database error', 'Connection lost', 'Service unavailable']\n",
        "    }\n",
        "\n",
        "    with open('server.log', 'w') as log_file:\n",
        "        # Start date (3 days ago)\n",
        "        date = datetime.now() - timedelta(days=days)\n",
        "\n",
        "        for day in range(days):\n",
        "            current_date = date + timedelta(days=day)\n",
        "\n",
        "            for _ in range(entries_per_day):\n",
        "                # Generate random time\n",
        "                hour = random.randint(0, 23)\n",
        "                minute = random.randint(0, 59)\n",
        "                second = random.randint(0, 59)\n",
        "\n",
        "                # Format timestamp\n",
        "                timestamp = current_date.replace(hour=hour, minute=minute, second=second)\n",
        "                timestamp_str = timestamp.strftime('%Y-%m-%d %H:%M:%S')\n",
        "\n",
        "                # Select random log type and message\n",
        "                log_type = random.choice(log_types)\n",
        "                message = random.choice(messages[log_type])\n",
        "\n",
        "                # Write log entry\n",
        "                log_file.write(f\"{timestamp_str} {log_type} {message}\\n\")\n",
        "\n",
        "    print(\"\\nGenerated sample log file: server.log\")"
      ],
      "metadata": {
        "id": "lqm3Ek5wNHy3"
      },
      "execution_count": 35,
      "outputs": []
    },
    {
      "cell_type": "code",
      "source": [
        "# Analyze log file\n",
        "def analyze_log():\n",
        "    log_counts = {'INFO': 0, 'WARNING': 0, 'ERROR': 0}\n",
        "\n",
        "    with open('server.log', 'r') as log_file:\n",
        "        for line in log_file:\n",
        "            for log_type in log_counts:\n",
        "                if f\" {log_type} \" in line:\n",
        "                    log_counts[log_type] += 1\n",
        "\n",
        "    print(\"\\nLog Analysis Results:\")\n",
        "    total = sum(log_counts.values())\n",
        "    for log_type, count in log_counts.items():\n",
        "        percentage = (count / total) * 100 if total > 0 else 0\n",
        "        print(f\"{log_type}: {count} entries ({percentage:.1f}%)\")\n",
        "\n",
        "# Generate and analyze logs\n",
        "generate_log()\n",
        "analyze_log()"
      ],
      "metadata": {
        "colab": {
          "base_uri": "https://localhost:8080/"
        },
        "id": "il_-qBMENKV0",
        "outputId": "c299b5cd-881a-4c15-d004-862d342b0662"
      },
      "execution_count": 36,
      "outputs": [
        {
          "output_type": "stream",
          "name": "stdout",
          "text": [
            "\n",
            "Generated sample log file: server.log\n",
            "\n",
            "Log Analysis Results:\n",
            "INFO: 5 entries (33.3%)\n",
            "WARNING: 7 entries (46.7%)\n",
            "ERROR: 3 entries (20.0%)\n"
          ]
        }
      ]
    },
    {
      "cell_type": "markdown",
      "source": [
        "## Summary\n",
        "\n",
        "This notebook covered a comprehensive journey through Python file handling:\n",
        "\n",
        "1. **Basic File Operations**:\n",
        "   - Opening and closing files\n",
        "   - Writing to files\n",
        "   - Reading from files\n",
        "\n",
        "2. **File Positioning**:\n",
        "   - Sequential access\n",
        "   - Random access using seek()\n",
        "\n",
        "3. **Different File Types**:\n",
        "   - Text files\n",
        "   - Binary files\n",
        "   - CSV files\n",
        "\n",
        "4. **Advanced Topics**:\n",
        "   - Working with multiple files\n",
        "   - Buffering\n",
        "   - Update modes (r+, w+, a+)\n",
        "\n",
        "5. **Practical Applications**:\n",
        "   - Note-taking app\n",
        "   - Data analysis with CSV\n",
        "   - Log file generator and analyzer\n",
        "\n",
        "These file handling skills form the foundation for data processing, configuration management, logging, and many other programming tasks in Python."
      ],
      "metadata": {
        "id": "3nyzaXY-JkCt"
      }
    },
    {
      "cell_type": "code",
      "source": [],
      "metadata": {
        "id": "511N70zuNCtx"
      },
      "execution_count": null,
      "outputs": []
    }
  ]
}