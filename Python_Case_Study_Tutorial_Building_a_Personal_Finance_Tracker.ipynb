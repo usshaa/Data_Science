{
  "nbformat": 4,
  "nbformat_minor": 0,
  "metadata": {
    "colab": {
      "provenance": [],
      "authorship_tag": "ABX9TyOEAagopNKW1AjBfsL7sxYO",
      "include_colab_link": true
    },
    "kernelspec": {
      "name": "python3",
      "display_name": "Python 3"
    },
    "language_info": {
      "name": "python"
    }
  },
  "cells": [
    {
      "cell_type": "markdown",
      "metadata": {
        "id": "view-in-github",
        "colab_type": "text"
      },
      "source": [
        "<a href=\"https://colab.research.google.com/github/usshaa/Data_Science/blob/main/Python_Case_Study_Tutorial_Building_a_Personal_Finance_Tracker.ipynb\" target=\"_parent\"><img src=\"https://colab.research.google.com/assets/colab-badge.svg\" alt=\"Open In Colab\"/></a>"
      ]
    },
    {
      "cell_type": "markdown",
      "source": [
        "# Python Case Study Tutorial: Building a Personal Finance Tracker\n",
        "\n",
        "This case study tutorial will guide you through building a personal finance tracking program while learning key Python programming concepts. By the end, you'll understand Python fundamentals and have created a practical application.\n",
        "\n",
        "## Table of Contents\n",
        "1. [Introduction](#introduction)\n",
        "2. [Setup and Variables](#setup-and-variables)\n",
        "3. [Data Structures](#data-structures)\n",
        "4. [Control Flow](#control-flow)\n",
        "5. [Functions](#functions)\n",
        "6. [File I/O](#file-io)\n",
        "7. [Error Handling](#error-handling)\n",
        "8. [Complete Program](#complete-program)\n",
        "9. [Further Extensions](#further-extensions)\n",
        "\n",
        "## Introduction\n",
        "\n",
        "Our case study will focus on creating a simple personal finance tracker that allows a user to:\n",
        "- Record income and expenses\n",
        "- Categorize transactions\n",
        "- Calculate balances\n",
        "- Save and load transaction history\n",
        "- Generate basic reports\n",
        "\n",
        "Through building this application, we'll explore various Python concepts including:\n",
        "- Variables and data types\n",
        "- Lists, dictionaries, and tuples\n",
        "- Control structures (if/else, loops)\n",
        "- Functions\n",
        "- File operations\n",
        "- Error handling\n",
        "\n",
        "## Setup and Variables\n",
        "\n",
        "Let's start by understanding variables and basic data types in Python."
      ],
      "metadata": {
        "id": "lY_18HQnJXET"
      }
    },
    {
      "cell_type": "code",
      "source": [
        "# Basic variable assignments\n",
        "current_balance = 1000.0  # Float for monetary values\n",
        "username = \"Alex\"  # String for text\n",
        "is_active = True  # Boolean for yes/no states"
      ],
      "metadata": {
        "id": "-crN1mRSTUnj"
      },
      "execution_count": 1,
      "outputs": []
    },
    {
      "cell_type": "code",
      "source": [
        "# Printing variables with string formatting\n",
        "print(f\"Welcome {username}! Your current balance is ${current_balance}\")"
      ],
      "metadata": {
        "colab": {
          "base_uri": "https://localhost:8080/"
        },
        "id": "1BYJmdX4JaOk",
        "outputId": "51ed2210-fb74-43eb-e81c-ae119b2fc85b"
      },
      "execution_count": 2,
      "outputs": [
        {
          "output_type": "stream",
          "name": "stdout",
          "text": [
            "Welcome Alex! Your current balance is $1000.0\n"
          ]
        }
      ]
    },
    {
      "cell_type": "code",
      "source": [
        "# Simple arithmetic operations\n",
        "deposit = 250.75\n",
        "withdrawal = 120.50\n",
        "new_balance = current_balance + deposit - withdrawal"
      ],
      "metadata": {
        "id": "3fNxtWE9Jbip"
      },
      "execution_count": 3,
      "outputs": []
    },
    {
      "cell_type": "code",
      "source": [
        "print(f\"After a deposit of ${deposit} and withdrawal of ${withdrawal}, your new balance is ${new_balance}\")"
      ],
      "metadata": {
        "colab": {
          "base_uri": "https://localhost:8080/"
        },
        "id": "CT_0hC7hJczn",
        "outputId": "52caee82-17a4-4530-843e-ffb23131702c"
      },
      "execution_count": 44,
      "outputs": [
        {
          "output_type": "stream",
          "name": "stdout",
          "text": [
            "After a deposit of $250.75 and withdrawal of $120.5, your new balance is $1130.25\n"
          ]
        }
      ]
    },
    {
      "cell_type": "markdown",
      "source": [
        "**Key Concepts:**\n",
        "- Variables store data that can be used and manipulated\n",
        "- Python has various data types (int, float, string, boolean)\n",
        "- String formatting with f-strings makes output readable\n",
        "- Basic arithmetic operations allow calculations\n",
        "\n",
        "## Data Structures\n",
        "\n",
        "Now let's explore how to organize our financial data using Python's built-in data structures."
      ],
      "metadata": {
        "id": "IVOLai_hJeyL"
      }
    },
    {
      "cell_type": "code",
      "source": [
        "# List of transactions (date, description, amount, category)\n",
        "transactions = [\n",
        "    [\"2025-04-01\", \"Salary\", 2500.00, \"Income\"],\n",
        "    [\"2025-04-02\", \"Grocery Shopping\", -150.75, \"Expense:Food\"],\n",
        "    [\"2025-04-03\", \"Electric Bill\", -95.40, \"Expense:Utilities\"],\n",
        "    [\"2025-04-05\", \"Freelance Work\", 350.00, \"Income\"]\n",
        "]"
      ],
      "metadata": {
        "id": "WQ-1lJSQJhPO"
      },
      "execution_count": 45,
      "outputs": []
    },
    {
      "cell_type": "code",
      "source": [
        "# Dictionary for category budgets\n",
        "monthly_budget = {\n",
        "    \"Food\": 400.00,\n",
        "    \"Utilities\": 200.00,\n",
        "    \"Entertainment\": 150.00,\n",
        "    \"Transportation\": 250.00\n",
        "}"
      ],
      "metadata": {
        "id": "9clDADbEJi7s"
      },
      "execution_count": 46,
      "outputs": []
    },
    {
      "cell_type": "code",
      "source": [
        "# Accessing and modifying data structures\n",
        "# Add a new transaction\n",
        "transactions.append([\"2025-04-07\", \"Movie Tickets\", -35.00, \"Expense:Entertainment\"])"
      ],
      "metadata": {
        "id": "TRCebXrHJkdJ"
      },
      "execution_count": 47,
      "outputs": []
    },
    {
      "cell_type": "code",
      "source": [
        "# Update a budget category\n",
        "monthly_budget[\"Food\"] = 450.00"
      ],
      "metadata": {
        "id": "m4qQTFcFJlvv"
      },
      "execution_count": 48,
      "outputs": []
    },
    {
      "cell_type": "code",
      "source": [
        "# Print all transactions\n",
        "print(\"Transaction History:\")\n",
        "for transaction in transactions:\n",
        "    date, description, amount, category = transaction\n",
        "    transaction_type = \"Income\" if amount > 0 else \"Expense\"\n",
        "    print(f\"{date} | {description} | ${abs(amount):.2f} | {transaction_type}\")"
      ],
      "metadata": {
        "colab": {
          "base_uri": "https://localhost:8080/"
        },
        "id": "-nWyyGbjJm_8",
        "outputId": "61b42efd-eacd-4b5c-88d9-2d4bbcd098b3"
      },
      "execution_count": 49,
      "outputs": [
        {
          "output_type": "stream",
          "name": "stdout",
          "text": [
            "Transaction History:\n",
            "2025-04-01 | Salary | $2500.00 | Income\n",
            "2025-04-02 | Grocery Shopping | $150.75 | Expense\n",
            "2025-04-03 | Electric Bill | $95.40 | Expense\n",
            "2025-04-05 | Freelance Work | $350.00 | Income\n",
            "2025-04-07 | Movie Tickets | $35.00 | Expense\n"
          ]
        }
      ]
    },
    {
      "cell_type": "code",
      "source": [
        "# Calculate total expenses by category\n",
        "expenses_by_category = {}\n",
        "for transaction in transactions:\n",
        "    amount = transaction[2]\n",
        "    category = transaction[3]\n",
        "\n",
        "    # Skip income entries\n",
        "    if amount >= 0:\n",
        "        continue\n",
        "\n",
        "    # Extract category name after \"Expense:\" prefix\n",
        "    if \":\" in category:\n",
        "        category = category.split(\":\")[1]\n",
        "\n",
        "    if category in expenses_by_category:\n",
        "        expenses_by_category[category] = expenses_by_category[category] + abs(amount)\n",
        "    else:\n",
        "        expenses_by_category[category] = abs(amount)"
      ],
      "metadata": {
        "id": "rZSLh6XsJoZf"
      },
      "execution_count": 50,
      "outputs": []
    },
    {
      "cell_type": "code",
      "source": [
        "print(\"\\nExpenses by Category:\")\n",
        "for category, amount in expenses_by_category.items():\n",
        "    print(f\"{category}: ${amount:.2f}\")"
      ],
      "metadata": {
        "colab": {
          "base_uri": "https://localhost:8080/"
        },
        "id": "LEyB6gkrJqE7",
        "outputId": "8b9613ec-e755-46b2-adba-571caec0484e"
      },
      "execution_count": 51,
      "outputs": [
        {
          "output_type": "stream",
          "name": "stdout",
          "text": [
            "\n",
            "Expenses by Category:\n",
            "Food: $150.75\n",
            "Utilities: $95.40\n",
            "Entertainment: $35.00\n"
          ]
        }
      ]
    },
    {
      "cell_type": "markdown",
      "source": [
        "**Key Concepts:**\n",
        "- Lists store ordered collections of items (our transactions)\n",
        "- List elements can be accessed by index or unpacked\n",
        "- Dictionaries store key-value pairs (our budget categories)\n",
        "- For loops can iterate through collections\n",
        "- Data can be processed and organized programmatically\n",
        "\n",
        "## Control Flow\n",
        "\n",
        "Let's implement control flow to evaluate our spending and provide feedback."
      ],
      "metadata": {
        "id": "_oDkJqtRJtqo"
      }
    },
    {
      "cell_type": "code",
      "source": [
        "# Calculate current balance from transactions\n",
        "balance = 0\n",
        "for transaction in transactions:\n",
        "    balance += transaction[2]"
      ],
      "metadata": {
        "id": "Zxt2UAf1Jrh1"
      },
      "execution_count": 52,
      "outputs": []
    },
    {
      "cell_type": "code",
      "source": [
        "print(f\"\\nCurrent Balance: ${balance:.2f}\")"
      ],
      "metadata": {
        "colab": {
          "base_uri": "https://localhost:8080/"
        },
        "id": "A3zZZHb-Jv_p",
        "outputId": "5fec6e30-a304-42fa-c256-f5a3e485a0be"
      },
      "execution_count": 53,
      "outputs": [
        {
          "output_type": "stream",
          "name": "stdout",
          "text": [
            "\n",
            "Current Balance: $2568.85\n"
          ]
        }
      ]
    },
    {
      "cell_type": "code",
      "source": [
        "# Conditional statements to evaluate financial status\n",
        "if balance < 0:\n",
        "    print(\"WARNING: Your account is overdrawn!\")\n",
        "elif balance < 100:\n",
        "    print(\"Caution: Your balance is running low.\")\n",
        "else:\n",
        "    print(\"Your account is in good standing.\")"
      ],
      "metadata": {
        "colab": {
          "base_uri": "https://localhost:8080/"
        },
        "id": "ckwFxuwcJxHg",
        "outputId": "227cadc7-4c22-4976-bde5-d0f1759ce276"
      },
      "execution_count": 54,
      "outputs": [
        {
          "output_type": "stream",
          "name": "stdout",
          "text": [
            "Your account is in good standing.\n"
          ]
        }
      ]
    },
    {
      "cell_type": "code",
      "source": [
        "# Check budget categories against actual spending\n",
        "print(\"\\nBudget Status:\")\n",
        "for category, budgeted in monthly_budget.items():\n",
        "    actual_spending = expenses_by_category.get(category, 0)\n",
        "    remaining = budgeted - actual_spending\n",
        "\n",
        "    if remaining < 0:\n",
        "        print(f\"{category}: OVER BUDGET by ${abs(remaining):.2f}\")\n",
        "    elif remaining < (0.2 * budgeted):\n",
        "        print(f\"{category}: Getting close to limit (${remaining:.2f} remaining)\")\n",
        "    else:\n",
        "        print(f\"{category}: Within budget (${remaining:.2f} remaining)\")"
      ],
      "metadata": {
        "colab": {
          "base_uri": "https://localhost:8080/"
        },
        "id": "tKtMtMJOJybv",
        "outputId": "240dfb69-f3a9-430f-e8e7-badbe026e3e7"
      },
      "execution_count": 55,
      "outputs": [
        {
          "output_type": "stream",
          "name": "stdout",
          "text": [
            "\n",
            "Budget Status:\n",
            "Food: Within budget ($299.25 remaining)\n",
            "Utilities: Within budget ($104.60 remaining)\n",
            "Entertainment: Within budget ($115.00 remaining)\n",
            "Transportation: Within budget ($250.00 remaining)\n"
          ]
        }
      ]
    },
    {
      "cell_type": "markdown",
      "source": [
        "**Key Concepts:**\n",
        "- If-elif-else statements create decision paths in code\n",
        "- Comparison operators evaluate conditions\n",
        "- Logical flow controls program execution\n",
        "- Multiple conditions can create complex decision trees\n",
        "\n",
        "## Functions\n",
        "\n",
        "Now let's organize our code using functions to make it modular and reusable."
      ],
      "metadata": {
        "id": "orqWcy0KJ15m"
      }
    },
    {
      "cell_type": "code",
      "source": [
        "def add_transaction(transactions_list, date, description, amount, category):\n",
        "    \"\"\"Add a new transaction to the transactions list.\"\"\"\n",
        "    transaction = [date, description, amount, category]\n",
        "    transactions_list.append(transaction)\n",
        "    return transactions_list"
      ],
      "metadata": {
        "id": "8qTz_ezGJz2n"
      },
      "execution_count": 56,
      "outputs": []
    },
    {
      "cell_type": "code",
      "source": [
        "def calculate_balance(transactions_list):\n",
        "    \"\"\"Calculate the current balance from all transactions.\"\"\"\n",
        "    total = 0\n",
        "    for transaction in transactions_list:\n",
        "        total += transaction[2]\n",
        "    return total"
      ],
      "metadata": {
        "id": "tOuVGK5rJ3-0"
      },
      "execution_count": 57,
      "outputs": []
    },
    {
      "cell_type": "code",
      "source": [
        "def summarize_by_category(transactions_list):\n",
        "    \"\"\"Summarize expenses and income by category.\"\"\"\n",
        "    income_by_category = {}\n",
        "    expenses_by_category = {}\n",
        "\n",
        "    for transaction in transactions_list:\n",
        "        amount = transaction[2]\n",
        "        category = transaction[3]\n",
        "\n",
        "        if amount >= 0:  # Income\n",
        "            category_name = \"Income\" if \":\" not in category else category.split(\":\")[1]\n",
        "            if category_name in income_by_category:\n",
        "                income_by_category[category_name] += amount\n",
        "            else:\n",
        "                income_by_category[category_name] = amount\n",
        "        else:  # Expense\n",
        "            category_name = category if \":\" not in category else category.split(\":\")[1]\n",
        "            if category_name in expenses_by_category:\n",
        "                expenses_by_category[category_name] += abs(amount)\n",
        "            else:\n",
        "                expenses_by_category[category_name] = abs(amount)\n",
        "\n",
        "    return income_by_category, expenses_by_category"
      ],
      "metadata": {
        "id": "dk3jG9ysJ5Xy"
      },
      "execution_count": 58,
      "outputs": []
    },
    {
      "cell_type": "code",
      "source": [
        "def check_budget_status(expenses, budget):\n",
        "    \"\"\"Check and report on budget status for each category.\"\"\"\n",
        "    status_report = {}\n",
        "\n",
        "    for category, budgeted in budget.items():\n",
        "        actual = expenses.get(category, 0)\n",
        "        remaining = budgeted - actual\n",
        "\n",
        "        if remaining < 0:\n",
        "            status = \"OVER BUDGET\"\n",
        "        elif remaining < (0.2 * budgeted):\n",
        "            status = \"NEAR LIMIT\"\n",
        "        else:\n",
        "            status = \"WITHIN BUDGET\"\n",
        "\n",
        "        status_report[category] = {\n",
        "            \"budgeted\": budgeted,\n",
        "            \"actual\": actual,\n",
        "            \"remaining\": remaining,\n",
        "            \"status\": status\n",
        "        }\n",
        "\n",
        "    return status_report"
      ],
      "metadata": {
        "id": "pY0Lbzq9J7GD"
      },
      "execution_count": 59,
      "outputs": []
    },
    {
      "cell_type": "code",
      "source": [
        "# Using our functions\n",
        "transactions = add_transaction(transactions, \"2025-04-10\", \"Phone Bill\", -65.00, \"Expense:Utilities\")\n",
        "current_balance = calculate_balance(transactions)\n",
        "income_summary, expense_summary = summarize_by_category(transactions)\n",
        "budget_status = check_budget_status(expense_summary, monthly_budget)"
      ],
      "metadata": {
        "id": "DhpCzHcYJ9RA"
      },
      "execution_count": 60,
      "outputs": []
    },
    {
      "cell_type": "code",
      "source": [
        "# Display results\n",
        "print(f\"\\nUpdated Balance: ${current_balance:.2f}\")"
      ],
      "metadata": {
        "colab": {
          "base_uri": "https://localhost:8080/"
        },
        "id": "OieKWglkJ-pP",
        "outputId": "8c8b91db-0a3e-40d1-95af-a6800104ccb5"
      },
      "execution_count": 61,
      "outputs": [
        {
          "output_type": "stream",
          "name": "stdout",
          "text": [
            "\n",
            "Updated Balance: $2503.85\n"
          ]
        }
      ]
    },
    {
      "cell_type": "code",
      "source": [
        "print(\"\\nIncome Summary:\")\n",
        "for category, amount in income_summary.items():\n",
        "    print(f\"{category}: ${amount:.2f}\")"
      ],
      "metadata": {
        "colab": {
          "base_uri": "https://localhost:8080/"
        },
        "id": "C2xujQS7KADx",
        "outputId": "31dcb1d1-b23a-4504-cd37-bfd8102fc6b2"
      },
      "execution_count": 62,
      "outputs": [
        {
          "output_type": "stream",
          "name": "stdout",
          "text": [
            "\n",
            "Income Summary:\n",
            "Income: $2850.00\n"
          ]
        }
      ]
    },
    {
      "cell_type": "code",
      "source": [
        "print(\"\\nExpense Summary:\")\n",
        "for category, amount in expense_summary.items():\n",
        "    print(f\"{category}: ${amount:.2f}\")"
      ],
      "metadata": {
        "colab": {
          "base_uri": "https://localhost:8080/"
        },
        "id": "bn1GmPckKBRM",
        "outputId": "81cdcb61-5e15-4aae-d1f0-e082a969c597"
      },
      "execution_count": 63,
      "outputs": [
        {
          "output_type": "stream",
          "name": "stdout",
          "text": [
            "\n",
            "Expense Summary:\n",
            "Food: $150.75\n",
            "Utilities: $160.40\n",
            "Entertainment: $35.00\n"
          ]
        }
      ]
    },
    {
      "cell_type": "code",
      "source": [
        "print(\"\\nBudget Status:\")\n",
        "for category, details in budget_status.items():\n",
        "    print(f\"{category}: {details['status']} (${details['remaining']:.2f} remaining)\")"
      ],
      "metadata": {
        "colab": {
          "base_uri": "https://localhost:8080/"
        },
        "id": "SDgexEFZKCoS",
        "outputId": "fd57b910-7225-44d2-d711-c9eed2cd6d24"
      },
      "execution_count": 64,
      "outputs": [
        {
          "output_type": "stream",
          "name": "stdout",
          "text": [
            "\n",
            "Budget Status:\n",
            "Food: WITHIN BUDGET ($299.25 remaining)\n",
            "Utilities: NEAR LIMIT ($39.60 remaining)\n",
            "Entertainment: WITHIN BUDGET ($115.00 remaining)\n",
            "Transportation: WITHIN BUDGET ($250.00 remaining)\n"
          ]
        }
      ]
    },
    {
      "cell_type": "markdown",
      "source": [
        "**Key Concepts:**\n",
        "- Functions encapsulate code for specific tasks\n",
        "- Parameters allow passing data into functions\n",
        "- Return values provide results back to the caller\n",
        "- Docstrings document what functions do\n",
        "- Functions make code reusable and readable\n",
        "\n",
        "## File I/O\n",
        "\n",
        "Let's implement saving and loading functionality to persist our data between program runs."
      ],
      "metadata": {
        "id": "VxVaY9oUKEhc"
      }
    },
    {
      "cell_type": "code",
      "source": [
        "import json\n",
        "from datetime import datetime"
      ],
      "metadata": {
        "id": "RFPQU9-cKGxF"
      },
      "execution_count": 65,
      "outputs": []
    },
    {
      "cell_type": "code",
      "source": [
        "def save_transactions_to_file(transactions_list, filename):\n",
        "    \"\"\"Save transactions to a JSON file.\"\"\"\n",
        "    try:\n",
        "        with open(filename, 'w') as file:\n",
        "            json.dump(transactions_list, file, indent=2)\n",
        "        return True\n",
        "    except Exception as e:\n",
        "        print(f\"Error saving transactions: {e}\")\n",
        "        return False"
      ],
      "metadata": {
        "id": "YlSgJ391KIDN"
      },
      "execution_count": 66,
      "outputs": []
    },
    {
      "cell_type": "code",
      "source": [
        "def load_transactions_from_file(filename):\n",
        "    \"\"\"Load transactions from a JSON file.\"\"\"\n",
        "    try:\n",
        "        with open(filename, 'r') as file:\n",
        "            return json.load(file)\n",
        "    except FileNotFoundError:\n",
        "        # If file doesn't exist, return empty list\n",
        "        return []\n",
        "    except Exception as e:\n",
        "        print(f\"Error loading transactions: {e}\")\n",
        "        return []"
      ],
      "metadata": {
        "id": "vbJNqv2GKJaw"
      },
      "execution_count": 67,
      "outputs": []
    },
    {
      "cell_type": "code",
      "source": [
        "def export_monthly_report(transactions_list, month, year, filename):\n",
        "    \"\"\"Export a monthly report to a text file.\"\"\"\n",
        "    # Filter transactions for the specified month and year\n",
        "    monthly_transactions = []\n",
        "    for transaction in transactions_list:\n",
        "        date = transaction[0]\n",
        "        transaction_date = datetime.strptime(date, \"%Y-%m-%d\")\n",
        "        if transaction_date.month == month and transaction_date.year == year:\n",
        "            monthly_transactions.append(transaction)\n",
        "\n",
        "    # Calculate totals\n",
        "    total_income = sum(t[2] for t in monthly_transactions if t[2] > 0)\n",
        "    total_expenses = sum(abs(t[2]) for t in monthly_transactions if t[2] < 0)\n",
        "    net = total_income - total_expenses\n",
        "\n",
        "    # Generate report content\n",
        "    report_content = f\"Monthly Financial Report - {month}/{year}\\n\"\n",
        "    report_content += f\"{'=' * 40}\\n\\n\"\n",
        "    report_content += f\"Total Income: ${total_income:.2f}\\n\"\n",
        "    report_content += f\"Total Expenses: ${total_expenses:.2f}\\n\"\n",
        "    report_content += f\"Net: ${net:.2f}\\n\\n\"\n",
        "\n",
        "    report_content += \"Transaction Details:\\n\"\n",
        "    report_content += f\"{'-' * 40}\\n\"\n",
        "    for t in monthly_transactions:\n",
        "        report_content += f\"{t[0]} | {t[1]} | ${abs(t[2]):.2f} | {'Income' if t[2] > 0 else 'Expense'}\\n\"\n",
        "\n",
        "    # Write report to file\n",
        "    try:\n",
        "        with open(filename, 'w') as file:\n",
        "            file.write(report_content)\n",
        "        return True\n",
        "    except Exception as e:\n",
        "        print(f\"Error exporting report: {e}\")\n",
        "        return False"
      ],
      "metadata": {
        "id": "lFY0iKUjKK5E"
      },
      "execution_count": 68,
      "outputs": []
    },
    {
      "cell_type": "code",
      "source": [
        "# Example usage\n",
        "# Save current transactions\n",
        "save_result = save_transactions_to_file(transactions, \"finance_data.json\")\n",
        "print(f\"Transactions saved successfully: {save_result}\")"
      ],
      "metadata": {
        "colab": {
          "base_uri": "https://localhost:8080/"
        },
        "id": "4PDD-Fr8KNV-",
        "outputId": "2f4f583f-72f3-4b35-9b23-131d9bf326ef"
      },
      "execution_count": 69,
      "outputs": [
        {
          "output_type": "stream",
          "name": "stdout",
          "text": [
            "Transactions saved successfully: True\n"
          ]
        }
      ]
    },
    {
      "cell_type": "code",
      "source": [
        "# Load transactions\n",
        "loaded_transactions = load_transactions_from_file(\"finance_data.json\")\n",
        "print(f\"Loaded {len(loaded_transactions)} transactions from file\")"
      ],
      "metadata": {
        "colab": {
          "base_uri": "https://localhost:8080/"
        },
        "id": "cyqSMCy3KOhW",
        "outputId": "1091fc83-8189-4e4d-f284-6c64bb5dc8e9"
      },
      "execution_count": 70,
      "outputs": [
        {
          "output_type": "stream",
          "name": "stdout",
          "text": [
            "Loaded 6 transactions from file\n"
          ]
        }
      ]
    },
    {
      "cell_type": "code",
      "source": [
        "# Export a monthly report\n",
        "current_month = 4  # April\n",
        "current_year = 2025\n",
        "export_result = export_monthly_report(transactions, current_month, current_year, \"april_2025_report.txt\")\n",
        "print(f\"Monthly report exported successfully: {export_result}\")"
      ],
      "metadata": {
        "colab": {
          "base_uri": "https://localhost:8080/"
        },
        "id": "7jWzOP5FKPrA",
        "outputId": "a36c57ed-290a-453f-c1ff-b191346e5f2c"
      },
      "execution_count": 71,
      "outputs": [
        {
          "output_type": "stream",
          "name": "stdout",
          "text": [
            "Monthly report exported successfully: True\n"
          ]
        }
      ]
    },
    {
      "cell_type": "markdown",
      "source": [
        "**Key Concepts:**\n",
        "- File I/O allows saving and loading data\n",
        "- Context managers (with statements) ensure proper file handling\n",
        "- JSON provides a standardized format for data storage\n",
        "- Error handling prevents crashes when file operations fail\n",
        "- File operations enable data persistence between program runs\n",
        "\n",
        "## Error Handling\n",
        "\n",
        "Let's make our program more robust by implementing proper error handling."
      ],
      "metadata": {
        "id": "3GSfdRCLKTqM"
      }
    },
    {
      "cell_type": "code",
      "source": [
        "def safe_input_float(prompt):\n",
        "    \"\"\"Safely get a float input from the user.\"\"\"\n",
        "    while True:\n",
        "        try:\n",
        "            return float(input(prompt))\n",
        "        except ValueError:\n",
        "            print(\"Invalid input. Please enter a number.\")"
      ],
      "metadata": {
        "id": "WbC3pf4GKRvx"
      },
      "execution_count": 72,
      "outputs": []
    },
    {
      "cell_type": "code",
      "source": [
        "def validate_date(date_str):\n",
        "    \"\"\"Validate that a string is in YYYY-MM-DD format.\"\"\"\n",
        "    try:\n",
        "        datetime.strptime(date_str, \"%Y-%m-%d\")\n",
        "        return True\n",
        "    except ValueError:\n",
        "        return False"
      ],
      "metadata": {
        "id": "1tAd7FbDKV1v"
      },
      "execution_count": 73,
      "outputs": []
    },
    {
      "cell_type": "code",
      "source": [
        "def add_transaction_with_validation(transactions_list):\n",
        "    \"\"\"Add a new transaction with input validation.\"\"\"\n",
        "    try:\n",
        "        # Get date with validation\n",
        "        while True:\n",
        "            date = input(\"Enter date (YYYY-MM-DD): \")\n",
        "            if validate_date(date):\n",
        "                break\n",
        "            print(\"Invalid date format. Please use YYYY-MM-DD.\")\n",
        "\n",
        "        # Get description\n",
        "        description = input(\"Enter description: \")\n",
        "        while not description:\n",
        "            print(\"Description cannot be empty.\")\n",
        "            description = input(\"Enter description: \")\n",
        "\n",
        "        # Get amount with validation\n",
        "        amount = safe_input_float(\"Enter amount (positive for income, negative for expense): \")\n",
        "\n",
        "        # Get category\n",
        "        category_type = \"Income\" if amount > 0 else \"Expense\"\n",
        "        category = input(f\"Enter {category_type.lower()} category: \")\n",
        "        while not category:\n",
        "            print(\"Category cannot be empty.\")\n",
        "            category = input(f\"Enter {category_type.lower()} category: \")\n",
        "\n",
        "        # Format the category\n",
        "        if category_type == \"Expense\" and \":\" not in category:\n",
        "            category = f\"{category_type}:{category}\"\n",
        "\n",
        "        # Add the transaction\n",
        "        transactions_list = add_transaction(transactions_list, date, description, amount, category)\n",
        "        print(\"Transaction added successfully!\")\n",
        "        return transactions_list\n",
        "\n",
        "    except KeyboardInterrupt:\n",
        "        print(\"\\nTransaction cancelled.\")\n",
        "        return transactions_list\n",
        "    except Exception as e:\n",
        "        print(f\"An error occurred: {e}\")\n",
        "        return transactions_list"
      ],
      "metadata": {
        "id": "XGinK_H2KXPI"
      },
      "execution_count": 74,
      "outputs": []
    },
    {
      "cell_type": "code",
      "source": [
        "# Example error handling in other functions\n",
        "def delete_transaction(transactions_list, index):\n",
        "    \"\"\"Delete a transaction by its index.\"\"\"\n",
        "    try:\n",
        "        if 0 <= index < len(transactions_list):\n",
        "            deleted = transactions_list.pop(index)\n",
        "            print(f\"Deleted transaction: {deleted[1]} (${abs(deleted[2]):.2f})\")\n",
        "            return transactions_list\n",
        "        else:\n",
        "            print(f\"Error: Invalid index {index}. Valid range is 0-{len(transactions_list)-1}.\")\n",
        "            return transactions_list\n",
        "    except Exception as e:\n",
        "        print(f\"Error deleting transaction: {e}\")\n",
        "        return transactions_list"
      ],
      "metadata": {
        "id": "fMJR1wU3KZja"
      },
      "execution_count": 75,
      "outputs": []
    },
    {
      "cell_type": "code",
      "source": [
        "def update_transaction(transactions_list, index):\n",
        "    \"\"\"Update a transaction by its index.\"\"\"\n",
        "    try:\n",
        "        if 0 <= index < len(transactions_list):\n",
        "            print(f\"Updating transaction: {transactions_list[index]}\")\n",
        "            transactions_list = delete_transaction(transactions_list, index)\n",
        "            transactions_list = add_transaction_with_validation(transactions_list)\n",
        "            return transactions_list\n",
        "        else:\n",
        "            print(f\"Error: Invalid index {index}. Valid range is 0-{len(transactions_list)-1}.\")\n",
        "            return transactions_list\n",
        "    except Exception as e:\n",
        "        print(f\"Error updating transaction: {e}\")\n",
        "        return transactions_list"
      ],
      "metadata": {
        "id": "E1NKxjKFKa8z"
      },
      "execution_count": 76,
      "outputs": []
    },
    {
      "cell_type": "markdown",
      "source": [
        "**Key Concepts:**\n",
        "- Try-except blocks catch and handle errors gracefully\n",
        "- Input validation prevents invalid data\n",
        "- Specific exception handling allows different responses to different errors\n",
        "- Error messages provide helpful feedback\n",
        "- Robust code anticipates and handles potential problems"
      ],
      "metadata": {
        "id": "s8lh-muMKiTC"
      }
    },
    {
      "cell_type": "markdown",
      "source": [
        "## Complete Program\n",
        "\n",
        "Now let's put it all together into a complete program with a menu-driven interface."
      ],
      "metadata": {
        "id": "h0XAz06YKnvR"
      }
    },
    {
      "cell_type": "code",
      "source": [
        "import json\n",
        "from datetime import datetime\n",
        "\n",
        "def main():\n",
        "    \"\"\"Main function to run the personal finance tracker.\"\"\"\n",
        "    transactions = load_transactions_from_file(\"finance_data.json\")\n",
        "    monthly_budget = load_budget_from_file(\"budget.json\")\n",
        "\n",
        "    if not monthly_budget:\n",
        "        # Default budget if none exists\n",
        "        monthly_budget = {\n",
        "            \"Food\": 400.00,\n",
        "            \"Utilities\": 200.00,\n",
        "            \"Entertainment\": 150.00,\n",
        "            \"Transportation\": 250.00\n",
        "        }\n",
        "\n",
        "    print(\"Welcome to Personal Finance Tracker!\")\n",
        "\n",
        "    while True:\n",
        "        print(\"\\n=== MENU ===\")\n",
        "        print(\"1. View Balance\")\n",
        "        print(\"2. View Transactions\")\n",
        "        print(\"3. Add Transaction\")\n",
        "        print(\"4. Delete Transaction\")\n",
        "        print(\"5. View Budget Status\")\n",
        "        print(\"6. Modify Budget\")\n",
        "        print(\"7. Export Monthly Report\")\n",
        "        print(\"8. Save and Exit\")\n",
        "\n",
        "        choice = input(\"\\nEnter your choice (1-8): \")\n",
        "\n",
        "        if choice == '1':\n",
        "            balance = calculate_balance(transactions)\n",
        "            print(f\"\\nCurrent Balance: ${balance:.2f}\")\n",
        "\n",
        "        elif choice == '2':\n",
        "            display_transactions(transactions)\n",
        "\n",
        "        elif choice == '3':\n",
        "            transactions = add_transaction_with_validation(transactions)\n",
        "\n",
        "        elif choice == '4':\n",
        "            display_transactions(transactions)\n",
        "            try:\n",
        "                index = int(input(\"Enter index of transaction to delete: \"))\n",
        "                transactions = delete_transaction(transactions, index)\n",
        "            except ValueError:\n",
        "                print(\"Invalid input. Please enter a number.\")\n",
        "\n",
        "        elif choice == '5':\n",
        "            _, expense_summary = summarize_by_category(transactions)\n",
        "            budget_status = check_budget_status(expense_summary, monthly_budget)\n",
        "            display_budget_status(budget_status)\n",
        "\n",
        "        elif choice == '6':\n",
        "            monthly_budget = modify_budget(monthly_budget)\n",
        "            save_budget_to_file(monthly_budget, \"budget.json\")\n",
        "\n",
        "        elif choice == '7':\n",
        "            try:\n",
        "                year = int(input(\"Enter year: \"))\n",
        "                month = int(input(\"Enter month (1-12): \"))\n",
        "                if 1 <= month <= 12:\n",
        "                    filename = f\"finance_report_{year}_{month}.txt\"\n",
        "                    export_monthly_report(transactions, month, year, filename)\n",
        "                    print(f\"Report exported to {filename}\")\n",
        "                else:\n",
        "                    print(\"Invalid month. Please enter a number between 1 and 12.\")\n",
        "            except ValueError:\n",
        "                print(\"Invalid input. Please enter numbers for year and month.\")\n",
        "\n",
        "        elif choice == '8':\n",
        "            save_transactions_to_file(transactions, \"finance_data.json\")\n",
        "            save_budget_to_file(monthly_budget, \"budget.json\")\n",
        "            print(\"Data saved. Goodbye!\")\n",
        "            break\n",
        "\n",
        "        else:\n",
        "            print(\"Invalid choice. Please enter a number between 1 and 8.\")\n",
        "\n",
        "def load_budget_from_file(filename):\n",
        "    \"\"\"Load budget from a JSON file.\"\"\"\n",
        "    try:\n",
        "        with open(filename, 'r') as file:\n",
        "            return json.load(file)\n",
        "    except FileNotFoundError:\n",
        "        return {}\n",
        "    except Exception as e:\n",
        "        print(f\"Error loading budget: {e}\")\n",
        "        return {}\n",
        "\n",
        "def save_budget_to_file(budget, filename):\n",
        "    \"\"\"Save budget to a JSON file.\"\"\"\n",
        "    try:\n",
        "        with open(filename, 'w') as file:\n",
        "            json.dump(budget, file, indent=2)\n",
        "        return True\n",
        "    except Exception as e:\n",
        "        print(f\"Error saving budget: {e}\")\n",
        "        return False\n",
        "\n",
        "def display_transactions(transactions_list):\n",
        "    \"\"\"Display all transactions with indices.\"\"\"\n",
        "    if not transactions_list:\n",
        "        print(\"No transactions to display.\")\n",
        "        return\n",
        "\n",
        "    print(\"\\nTransaction History:\")\n",
        "    print(f\"{'Index':<6}{'Date':<12}{'Description':<20}{'Amount':<10}{'Category':<15}\")\n",
        "    print(\"-\" * 60)\n",
        "\n",
        "    for i, transaction in enumerate(transactions_list):\n",
        "        date, description, amount, category = transaction\n",
        "        formatted_amount = f\"${abs(amount):.2f}\"\n",
        "        transaction_type = \"+\" if amount > 0 else \"-\"\n",
        "        print(f\"{i:<6}{date:<12}{description[:18]:<20}{transaction_type}{formatted_amount:<9}{category:<15}\")\n",
        "\n",
        "def display_budget_status(budget_status):\n",
        "    \"\"\"Display budget status in a formatted way.\"\"\"\n",
        "    print(\"\\nBudget Status:\")\n",
        "    print(f\"{'Category':<15}{'Budget':<10}{'Spent':<10}{'Remaining':<10}{'Status':<15}\")\n",
        "    print(\"-\" * 60)\n",
        "\n",
        "    for category, details in budget_status.items():\n",
        "        budget = f\"${details['budgeted']:.2f}\"\n",
        "        spent = f\"${details['actual']:.2f}\"\n",
        "        remaining = f\"${details['remaining']:.2f}\"\n",
        "        status = details['status']\n",
        "        print(f\"{category[:14]:<15}{budget:<10}{spent:<10}{remaining:<10}{status:<15}\")\n",
        "\n",
        "def modify_budget(budget):\n",
        "    \"\"\"Allow user to modify budget categories and amounts.\"\"\"\n",
        "    print(\"\\nCurrent Budget:\")\n",
        "    for category, amount in budget.items():\n",
        "        print(f\"{category}: ${amount:.2f}\")\n",
        "\n",
        "    print(\"\\nOptions:\")\n",
        "    print(\"1. Add/Update Category\")\n",
        "    print(\"2. Delete Category\")\n",
        "    print(\"3. Return to Main Menu\")\n",
        "\n",
        "    choice = input(\"Enter choice (1-3): \")\n",
        "\n",
        "    if choice == '1':\n",
        "        category = input(\"Enter category name: \")\n",
        "        try:\n",
        "            amount = float(input(\"Enter budget amount: $\"))\n",
        "            if amount < 0:\n",
        "                print(\"Budget amount cannot be negative.\")\n",
        "            else:\n",
        "                budget[category] = amount\n",
        "                print(f\"Budget for {category} set to ${amount:.2f}\")\n",
        "        except ValueError:\n",
        "            print(\"Invalid amount. Please enter a number.\")\n",
        "\n",
        "    elif choice == '2':\n",
        "        category = input(\"Enter category name to delete: \")\n",
        "        if category in budget:\n",
        "            del budget[category]\n",
        "            print(f\"Category '{category}' deleted from budget.\")\n",
        "        else:\n",
        "            print(f\"Category '{category}' not found in budget.\")\n",
        "\n",
        "    return budget\n",
        "\n",
        "# Execute the main function if this script is run directly\n",
        "if __name__ == \"__main__\":\n",
        "    main()"
      ],
      "metadata": {
        "colab": {
          "base_uri": "https://localhost:8080/"
        },
        "id": "bdfxwglvKexf",
        "outputId": "1384ef83-3a20-429e-8477-55e4534705a3"
      },
      "execution_count": 43,
      "outputs": [
        {
          "output_type": "stream",
          "name": "stdout",
          "text": [
            "Welcome to Personal Finance Tracker!\n",
            "\n",
            "=== MENU ===\n",
            "1. View Balance\n",
            "2. View Transactions\n",
            "3. Add Transaction\n",
            "4. Delete Transaction\n",
            "5. View Budget Status\n",
            "6. Modify Budget\n",
            "7. Export Monthly Report\n",
            "8. Save and Exit\n",
            "\n",
            "Enter your choice (1-8): 8\n",
            "Data saved. Goodbye!\n"
          ]
        }
      ]
    },
    {
      "cell_type": "markdown",
      "source": [
        "**Key Concepts:**\n",
        "- Main function organizes program flow\n",
        "- Menu-driven interface provides user options\n",
        "- Functions are called based on user selections\n",
        "- Program state is maintained between operations\n",
        "- Data persistence allows saving and loading data\n",
        "\n",
        "## Further Extensions\n",
        "\n",
        "Now that you understand the basics, here are some ideas to extend the program:\n",
        "\n",
        "1. **Data Visualization**: Add graphs using libraries like matplotlib or seaborn\n",
        "\n",
        "# Example (requires matplotlib)\n",
        "import matplotlib.pyplot as plt\n",
        "\n",
        "def create_expense_pie_chart(expense_summary):\n",
        "    \"\"\"Create a pie chart of expenses by category.\"\"\"\n",
        "    categories = list(expense_summary.keys())\n",
        "    amounts = list(expense_summary.values())\n",
        "    \n",
        "    plt.figure(figsize=(10, 7))\n",
        "    plt.pie(amounts, labels=categories, autopct='%1.1f%%')\n",
        "    plt.axis('equal')\n",
        "    plt.title('Expenses by Category')\n",
        "    plt.savefig('expense_chart.png')\n",
        "    plt.close()\n",
        "    print(\"Chart saved as 'expense_chart.png'\")\n",
        "\n",
        "\n",
        "2. **Database Integration**: Store data in SQLite instead of JSON files\n",
        "3. **Recurring Transactions**: Add support for scheduled payments\n",
        "4. **Multi-user Support**: Allow multiple users with separate data\n",
        "5. **Investment Tracking**: Track investments and calculate returns\n",
        "6. **Budget Planning Tools**: Create tools for financial goal setting\n",
        "7. **Data Analysis**: Implement trend analysis and spending patterns\n",
        "\n",
        "## Conclusion\n",
        "\n",
        "This case study has walked you through building a practical Python application while learning fundamental programming concepts. You've seen how to:\n",
        "\n",
        "- Create and manipulate variables and data structures\n",
        "- Control program flow with conditionals and loops\n",
        "- Organize code using functions\n",
        "- Persist data with file operations\n",
        "- Handle errors gracefully\n",
        "- Build a complete, user-friendly application\n",
        "\n",
        "By extending this program with the suggested enhancements, you can continue developing your Python skills while creating a truly useful tool for personal finance management.\n",
        "\n",
        "Remember that programming is best learned through practice and experimentation. Try modifying the code, adding new features, or even rebuilding parts of it in your own style to deepen your understanding.\n",
        "\n",
        "Happy coding!"
      ],
      "metadata": {
        "id": "U0Hg985iLD_0"
      }
    },
    {
      "cell_type": "code",
      "source": [],
      "metadata": {
        "id": "WdKemFnQLBVQ"
      },
      "execution_count": null,
      "outputs": []
    }
  ]
}