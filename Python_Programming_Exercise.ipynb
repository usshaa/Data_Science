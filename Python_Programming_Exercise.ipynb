{
  "nbformat": 4,
  "nbformat_minor": 0,
  "metadata": {
    "colab": {
      "provenance": [],
      "collapsed_sections": [
        "fE_UH_ZmQJrL",
        "WPsTfAWOPbjW",
        "VYxQNFqaPmNH",
        "hz9RebGTQrH-",
        "D5Hib2M9Q2U5",
        "2dAvtQAwRBvb",
        "c6CNc7j2RMsx"
      ],
      "authorship_tag": "ABX9TyM41ivvS5gNoJLMYKX+zM9Z",
      "include_colab_link": true
    },
    "kernelspec": {
      "name": "python3",
      "display_name": "Python 3"
    },
    "language_info": {
      "name": "python"
    }
  },
  "cells": [
    {
      "cell_type": "markdown",
      "metadata": {
        "id": "view-in-github",
        "colab_type": "text"
      },
      "source": [
        "<a href=\"https://colab.research.google.com/github/usshaa/Data_Science/blob/main/Python_Programming_Exercise.ipynb\" target=\"_parent\"><img src=\"https://colab.research.google.com/assets/colab-badge.svg\" alt=\"Open In Colab\"/></a>"
      ]
    },
    {
      "cell_type": "markdown",
      "source": [
        "# Python Programming Exercises"
      ],
      "metadata": {
        "id": "WN-s-hSMP3Du"
      }
    },
    {
      "cell_type": "markdown",
      "source": [
        "## Variables"
      ],
      "metadata": {
        "id": "fE_UH_ZmQJrL"
      }
    },
    {
      "cell_type": "markdown",
      "source": [
        "\n",
        "1. **Variable Swap**: Write a program that swaps the values of two variables without using a temporary variable."
      ],
      "metadata": {
        "id": "wfbKLAPDQTCg"
      }
    },
    {
      "cell_type": "code",
      "source": [],
      "metadata": {
        "id": "eQlDKxA7Oe1T"
      },
      "execution_count": null,
      "outputs": []
    },
    {
      "cell_type": "markdown",
      "source": [
        "2. **Variable Naming**: Declare variables to store student information including name, age, grade, and enrollment status. Use appropriate variable names."
      ],
      "metadata": {
        "id": "HS2YBB70PQTH"
      }
    },
    {
      "cell_type": "code",
      "source": [],
      "metadata": {
        "id": "itPp3lIQPS6n"
      },
      "execution_count": null,
      "outputs": []
    },
    {
      "cell_type": "markdown",
      "source": [
        "3. **Type Conversion**: Create a variable with a numeric value and convert it to a string. Then create a string variable with a number and convert it to an integer."
      ],
      "metadata": {
        "id": "D863MGwiPWIx"
      }
    },
    {
      "cell_type": "code",
      "source": [],
      "metadata": {
        "id": "T-0x9WYgPXvX"
      },
      "execution_count": null,
      "outputs": []
    },
    {
      "cell_type": "markdown",
      "source": [
        "4. **Constants**: Create a program that uses constants to represent fixed values like mathematical constants (π, e) and physical constants."
      ],
      "metadata": {
        "id": "2MIRizdzPZag"
      }
    },
    {
      "cell_type": "code",
      "source": [],
      "metadata": {
        "id": "2DIQ9VRyPayp"
      },
      "execution_count": null,
      "outputs": []
    },
    {
      "cell_type": "markdown",
      "source": [
        "## Datatypes"
      ],
      "metadata": {
        "id": "WPsTfAWOPbjW"
      }
    },
    {
      "cell_type": "markdown",
      "source": [
        "1. **Type Identification**: Write a program that takes different inputs and determines their data types."
      ],
      "metadata": {
        "id": "XhG3bRYoQX1F"
      }
    },
    {
      "cell_type": "code",
      "source": [],
      "metadata": {
        "id": "2rQfRZ4BPdS4"
      },
      "execution_count": null,
      "outputs": []
    },
    {
      "cell_type": "markdown",
      "source": [
        "2. **Data Type Conversion**: Convert between different data types (integers, floats, strings, booleans) and observe any data loss or changes."
      ],
      "metadata": {
        "id": "3lDJMMuKPd2k"
      }
    },
    {
      "cell_type": "code",
      "source": [],
      "metadata": {
        "id": "9Q1VhU3ZPfHo"
      },
      "execution_count": null,
      "outputs": []
    },
    {
      "cell_type": "markdown",
      "source": [
        "3. **Complex Data Types**: Create a program that uses lists/arrays, dictionaries/objects, and sets to store related data."
      ],
      "metadata": {
        "id": "b0qmnm9wPgHq"
      }
    },
    {
      "cell_type": "code",
      "source": [],
      "metadata": {
        "id": "SVpFAcOxPhX4"
      },
      "execution_count": null,
      "outputs": []
    },
    {
      "cell_type": "markdown",
      "source": [
        "4. **String Manipulation**: Write a program that performs various string operations (slicing, concatenation, formatting)."
      ],
      "metadata": {
        "id": "XCeV82NWPibB"
      }
    },
    {
      "cell_type": "code",
      "source": [],
      "metadata": {
        "id": "Yl69Xj-JPjsG"
      },
      "execution_count": null,
      "outputs": []
    },
    {
      "cell_type": "markdown",
      "source": [
        "5. **Custom Data Type**: Create a custom data structure (like a class or struct) to represent a book with attributes like title, author, and publication year."
      ],
      "metadata": {
        "id": "LmgNZab4PkZN"
      }
    },
    {
      "cell_type": "code",
      "source": [],
      "metadata": {
        "id": "TMJLzkfGPlpX"
      },
      "execution_count": null,
      "outputs": []
    },
    {
      "cell_type": "markdown",
      "source": [
        "## Input/Output"
      ],
      "metadata": {
        "id": "VYxQNFqaPmNH"
      }
    },
    {
      "cell_type": "markdown",
      "source": [
        "1. **User Input**: Create a program that asks for a user's name, age, and favorite color, then displays a personalized message."
      ],
      "metadata": {
        "id": "0J_1oF4wQhSJ"
      }
    },
    {
      "cell_type": "code",
      "source": [],
      "metadata": {
        "id": "MyfpdYWsPnpM"
      },
      "execution_count": null,
      "outputs": []
    },
    {
      "cell_type": "markdown",
      "source": [
        "2. **File I/O**: Write a program that reads data from a file, modifies it, and writes the result to a new file."
      ],
      "metadata": {
        "id": "ZmTpzIEaPoOl"
      }
    },
    {
      "cell_type": "code",
      "source": [],
      "metadata": {
        "id": "opx_lL9EPpaV"
      },
      "execution_count": null,
      "outputs": []
    },
    {
      "cell_type": "markdown",
      "source": [
        "3. **Formatted Output**: Create a program that displays a table of student names and scores with proper alignment."
      ],
      "metadata": {
        "id": "0rjEXHnzPqRs"
      }
    },
    {
      "cell_type": "code",
      "source": [],
      "metadata": {
        "id": "Lhui4JeSPrqX"
      },
      "execution_count": null,
      "outputs": []
    },
    {
      "cell_type": "markdown",
      "source": [
        "4. **Command Line Arguments**: Write a script that accepts command line arguments and processes them accordingly."
      ],
      "metadata": {
        "id": "dZIu6SODPsOL"
      }
    },
    {
      "cell_type": "code",
      "source": [],
      "metadata": {
        "id": "kJtp1HWdQnVt"
      },
      "execution_count": null,
      "outputs": []
    },
    {
      "cell_type": "markdown",
      "source": [
        "5. **Error Handling**: Create a program that handles potential input errors gracefully (e.g., when a user enters text instead of a number)."
      ],
      "metadata": {
        "id": "hyjgm3rLQnxY"
      }
    },
    {
      "cell_type": "code",
      "source": [],
      "metadata": {
        "id": "VB8XakIUQo-w"
      },
      "execution_count": null,
      "outputs": []
    },
    {
      "cell_type": "markdown",
      "source": [
        "## Operators"
      ],
      "metadata": {
        "id": "hz9RebGTQrH-"
      }
    },
    {
      "cell_type": "markdown",
      "source": [
        "1. **Calculator**: Create a simple calculator that can perform basic arithmetic operations (+, -, *, /) based on user input."
      ],
      "metadata": {
        "id": "LlPVQy03QtQX"
      }
    },
    {
      "cell_type": "code",
      "source": [],
      "metadata": {
        "id": "G8uuygu6Qu29"
      },
      "execution_count": null,
      "outputs": []
    },
    {
      "cell_type": "markdown",
      "source": [
        "2. **Bitwise Operations**: Write a program that demonstrates bitwise operators (AND, OR, XOR, NOT, shift) and their applications."
      ],
      "metadata": {
        "id": "jq0WrjdMQvRa"
      }
    },
    {
      "cell_type": "code",
      "source": [],
      "metadata": {
        "id": "PsaJzqk6Qwlw"
      },
      "execution_count": null,
      "outputs": []
    },
    {
      "cell_type": "markdown",
      "source": [
        "3. **Logical Operators**: Create a program that uses logical operators (AND, OR, NOT) to determine if a person is eligible for a loan based on multiple conditions."
      ],
      "metadata": {
        "id": "GJCM4slFQw-_"
      }
    },
    {
      "cell_type": "code",
      "source": [],
      "metadata": {
        "id": "pJNRA-WuQyjX"
      },
      "execution_count": null,
      "outputs": []
    },
    {
      "cell_type": "markdown",
      "source": [
        "4. **Compound Assignment**: Write code that uses compound assignment operators (+=, -=, *=, /=) to update variables."
      ],
      "metadata": {
        "id": "nMcpDaIEQy1i"
      }
    },
    {
      "cell_type": "code",
      "source": [],
      "metadata": {
        "id": "86xFRJbMQ0I0"
      },
      "execution_count": null,
      "outputs": []
    },
    {
      "cell_type": "markdown",
      "source": [
        "5. **Precedence**: Create expressions that demonstrate operator precedence and how parentheses can change the evaluation order."
      ],
      "metadata": {
        "id": "Y_hsNi4vQ0rE"
      }
    },
    {
      "cell_type": "code",
      "source": [],
      "metadata": {
        "id": "ZrcGu3UBQ2Ci"
      },
      "execution_count": null,
      "outputs": []
    },
    {
      "cell_type": "markdown",
      "source": [
        "## Control Flow"
      ],
      "metadata": {
        "id": "D5Hib2M9Q2U5"
      }
    },
    {
      "cell_type": "markdown",
      "source": [
        "1. **Grade Calculator**: Write a program that calculates and displays a letter grade based on a numerical score using if-elif-else statements."
      ],
      "metadata": {
        "id": "MPo3xAWpQ42V"
      }
    },
    {
      "cell_type": "code",
      "source": [],
      "metadata": {
        "id": "hWDVh6fFQ4Cl"
      },
      "execution_count": null,
      "outputs": []
    },
    {
      "cell_type": "markdown",
      "source": [
        "2. **Multiplication Table**: Create a program that generates a multiplication table of a user-specified size using nested loops."
      ],
      "metadata": {
        "id": "osDXBDRIQ6vk"
      }
    },
    {
      "cell_type": "code",
      "source": [],
      "metadata": {
        "id": "bXGq0ZQWQ8AW"
      },
      "execution_count": null,
      "outputs": []
    },
    {
      "cell_type": "markdown",
      "source": [
        "3. **Guessing Game**: Implement a number guessing game where the user has to guess a random number within a certain range."
      ],
      "metadata": {
        "id": "9TqtR4TgQ8Uk"
      }
    },
    {
      "cell_type": "code",
      "source": [],
      "metadata": {
        "id": "c8wPKxcWQ9tX"
      },
      "execution_count": null,
      "outputs": []
    },
    {
      "cell_type": "markdown",
      "source": [
        "4. **Pattern Printing**: Write a program that prints different patterns (triangles, diamonds) using loops and conditional statements."
      ],
      "metadata": {
        "id": "QmWDRGlOQ9_R"
      }
    },
    {
      "cell_type": "code",
      "source": [],
      "metadata": {
        "id": "B6NICG2JQ_Qx"
      },
      "execution_count": null,
      "outputs": []
    },
    {
      "cell_type": "markdown",
      "source": [
        "5. **Menu System**: Create a menu-driven program that performs different operations based on user selection."
      ],
      "metadata": {
        "id": "Y88LpZkaQ_5r"
      }
    },
    {
      "cell_type": "code",
      "source": [],
      "metadata": {
        "id": "linjKztLRBHb"
      },
      "execution_count": null,
      "outputs": []
    },
    {
      "cell_type": "markdown",
      "source": [
        "## Functions"
      ],
      "metadata": {
        "id": "2dAvtQAwRBvb"
      }
    },
    {
      "cell_type": "markdown",
      "source": [
        "1. **Temperature Converter**: Write functions to convert between Celsius, Fahrenheit, and Kelvin."
      ],
      "metadata": {
        "id": "37jYry3wRDcP"
      }
    },
    {
      "cell_type": "code",
      "source": [],
      "metadata": {
        "id": "7ghAx1PKREpX"
      },
      "execution_count": null,
      "outputs": []
    },
    {
      "cell_type": "markdown",
      "source": [
        "2. **Prime Checker**: Create a function that determines if a number is prime."
      ],
      "metadata": {
        "id": "q1I4Z6TnRE7B"
      }
    },
    {
      "cell_type": "code",
      "source": [],
      "metadata": {
        "id": "B-U4LYpjRGIV"
      },
      "execution_count": null,
      "outputs": []
    },
    {
      "cell_type": "markdown",
      "source": [
        "3. **Password Validator**: Write a function that checks if a password meets certain criteria (length, contains numbers, special characters, etc.)."
      ],
      "metadata": {
        "id": "BcoaVwLeRGof"
      }
    },
    {
      "cell_type": "code",
      "source": [],
      "metadata": {
        "id": "n5UJy551RH9x"
      },
      "execution_count": null,
      "outputs": []
    },
    {
      "cell_type": "markdown",
      "source": [
        "4. **Recursive Factorial**: Implement a recursive function to calculate the factorial of a number."
      ],
      "metadata": {
        "id": "fnTYX4j0RI4M"
      }
    },
    {
      "cell_type": "code",
      "source": [],
      "metadata": {
        "id": "Sxi5MwrLRKGN"
      },
      "execution_count": null,
      "outputs": []
    },
    {
      "cell_type": "markdown",
      "source": [
        "5. **Function Composition**: Create functions that can be composed together to process data in multiple steps."
      ],
      "metadata": {
        "id": "X0bltxAHRKkN"
      }
    },
    {
      "cell_type": "code",
      "source": [],
      "metadata": {
        "id": "xRMxsPpXRLxG"
      },
      "execution_count": null,
      "outputs": []
    },
    {
      "cell_type": "markdown",
      "source": [
        "## Modules"
      ],
      "metadata": {
        "id": "c6CNc7j2RMsx"
      }
    },
    {
      "cell_type": "markdown",
      "source": [
        "1. **Custom Module**: Create a module with functions for common string operations and import it in another program."
      ],
      "metadata": {
        "id": "8IYiocm2RPPn"
      }
    },
    {
      "cell_type": "code",
      "source": [],
      "metadata": {
        "id": "yaOUgUCzROKq"
      },
      "execution_count": null,
      "outputs": []
    },
    {
      "cell_type": "markdown",
      "source": [
        "2. **Standard Library**: Write a program that uses at least three different standard library modules for different purposes."
      ],
      "metadata": {
        "id": "97QStc5URRoc"
      }
    },
    {
      "cell_type": "code",
      "source": [],
      "metadata": {
        "id": "phXGK97dRTCW"
      },
      "execution_count": null,
      "outputs": []
    },
    {
      "cell_type": "markdown",
      "source": [
        "3. **Third-Party Library**: Install and use a third-party library to solve a specific problem (e.g., using pandas for data analysis)."
      ],
      "metadata": {
        "id": "zSX7NOxxRTjO"
      }
    },
    {
      "cell_type": "code",
      "source": [],
      "metadata": {
        "id": "SYbw9bi4RU5b"
      },
      "execution_count": null,
      "outputs": []
    },
    {
      "cell_type": "markdown",
      "source": [
        "4. **Package Structure**: Create a simple package with multiple modules and an `__init__.py` file."
      ],
      "metadata": {
        "id": "eAtHsFOCRVf1"
      }
    },
    {
      "cell_type": "code",
      "source": [],
      "metadata": {
        "id": "yEprx8M-RWy-"
      },
      "execution_count": null,
      "outputs": []
    },
    {
      "cell_type": "markdown",
      "source": [
        "5. **Module Documentation**: Create a well-documented module with docstrings and comments explaining the purpose and usage of each function."
      ],
      "metadata": {
        "id": "6Tcp4rmoRaXN"
      }
    },
    {
      "cell_type": "code",
      "source": [],
      "metadata": {
        "id": "rR2RpIFdRcQH"
      },
      "execution_count": null,
      "outputs": []
    }
  ]
}