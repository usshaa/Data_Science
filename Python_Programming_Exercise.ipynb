{
  "nbformat": 4,
  "nbformat_minor": 0,
  "metadata": {
    "colab": {
      "provenance": [],
      "collapsed_sections": [
        "fE_UH_ZmQJrL",
        "WPsTfAWOPbjW",
        "VYxQNFqaPmNH",
        "hz9RebGTQrH-",
        "D5Hib2M9Q2U5",
        "2dAvtQAwRBvb",
        "c6CNc7j2RMsx"
      ],
      "authorship_tag": "ABX9TyMF6VHgeXr+LKlkobc9Xpe6",
      "include_colab_link": true
    },
    "kernelspec": {
      "name": "python3",
      "display_name": "Python 3"
    },
    "language_info": {
      "name": "python"
    }
  },
  "cells": [
    {
      "cell_type": "markdown",
      "metadata": {
        "id": "view-in-github",
        "colab_type": "text"
      },
      "source": [
        "<a href=\"https://colab.research.google.com/github/usshaa/Data_Science/blob/main/Python_Programming_Exercise.ipynb\" target=\"_parent\"><img src=\"https://colab.research.google.com/assets/colab-badge.svg\" alt=\"Open In Colab\"/></a>"
      ]
    },
    {
      "cell_type": "markdown",
      "source": [
        "# Python Programming Exercises"
      ],
      "metadata": {
        "id": "WN-s-hSMP3Du"
      }
    },
    {
      "cell_type": "code",
      "source": [
        "# Example 1: Swapping two variables without using a temporary variable"
      ],
      "metadata": {
        "id": "rR2RpIFdRcQH"
      },
      "execution_count": null,
      "outputs": []
    },
    {
      "cell_type": "code",
      "source": [
        "a = 10\n",
        "b = 5\n",
        "\n",
        "print(\"Before swapping:\")\n",
        "print(\"a =\", a)\n",
        "print(\"b =\", b)\n",
        "\n",
        "a, b = b, a  # Simultaneous assignment\n",
        "\n",
        "print(\"\\nAfter swapping:\")\n",
        "print(\"a =\", a)\n",
        "print(\"b =\", b)"
      ],
      "metadata": {
        "id": "FZuYsOYal7P7"
      },
      "execution_count": null,
      "outputs": []
    },
    {
      "cell_type": "code",
      "source": [
        "# Example 2: Calculating the area of a rectangle"
      ],
      "metadata": {
        "id": "J2MvJL-Zmw4F"
      },
      "execution_count": null,
      "outputs": []
    },
    {
      "cell_type": "code",
      "source": [
        "length = 10\n",
        "width = 5\n",
        "\n",
        "area = length * width\n",
        "\n",
        "print(\"\\nArea of the rectangle:\", area)"
      ],
      "metadata": {
        "id": "sVzLyy2SlvtX"
      },
      "execution_count": null,
      "outputs": []
    },
    {
      "cell_type": "code",
      "source": [
        "# Example 3: Converting temperature from Celsius to Fahrenheit"
      ],
      "metadata": {
        "id": "bz_hQIKMmyxy"
      },
      "execution_count": null,
      "outputs": []
    },
    {
      "cell_type": "code",
      "source": [
        "celsius = 25\n",
        "\n",
        "fahrenheit = (celsius * 9/5) + 32\n",
        "\n",
        "print(\"\\nTemperature in Fahrenheit:\", fahrenheit)"
      ],
      "metadata": {
        "id": "7MC2tFTXlx7X"
      },
      "execution_count": null,
      "outputs": []
    },
    {
      "cell_type": "code",
      "source": [
        "# Example 4: String concatenation"
      ],
      "metadata": {
        "id": "TMMXVHTVm0sc"
      },
      "execution_count": null,
      "outputs": []
    },
    {
      "cell_type": "code",
      "source": [
        "first_name = \"John\"\n",
        "last_name = \"Doe\"\n",
        "\n",
        "full_name = first_name + \" \" + last_name\n",
        "\n",
        "print(\"\\nFull Name:\", full_name)\n"
      ],
      "metadata": {
        "id": "kZfVd3lhl1Sj"
      },
      "execution_count": null,
      "outputs": []
    },
    {
      "cell_type": "code",
      "source": [
        "# Example 5: Working with Lists"
      ],
      "metadata": {
        "id": "Kz9wkdnjm14s"
      },
      "execution_count": null,
      "outputs": []
    },
    {
      "cell_type": "code",
      "source": [
        "my_list = [1, 2, 3, 4, 5]\n",
        "\n",
        "# Accessing elements\n",
        "print(\"\\nFirst element:\", my_list[0])\n",
        "print(\"Last element:\", my_list[-1])\n",
        "\n",
        "# Slicing\n",
        "print(\"Elements from index 1 to 3:\", my_list[1:4])\n",
        "\n",
        "# Appending an element\n",
        "my_list.append(6)\n",
        "print(\"List after appending 6:\", my_list)"
      ],
      "metadata": {
        "id": "-jCgOcxmTdko"
      },
      "execution_count": null,
      "outputs": []
    },
    {
      "cell_type": "code",
      "source": [
        "# Example 6: Working with Tuples\n",
        "my_tuple = (10, 20, 30, 40, 50)\n",
        "\n",
        "# Accessing elements (similar to lists)\n",
        "print(\"\\nFirst element of tuple:\", my_tuple[0])\n",
        "\n",
        "# Tuples are immutable, so you cannot modify them directly like lists."
      ],
      "metadata": {
        "id": "hJT75hkhm40u"
      },
      "execution_count": null,
      "outputs": []
    },
    {
      "cell_type": "code",
      "source": [
        "# Example 7: Working with Dictionaries\n",
        "my_dict = {\"name\": \"Alice\", \"age\": 30, \"city\": \"New York\"}\n",
        "\n",
        "# Accessing values\n",
        "print(\"\\nName:\", my_dict[\"name\"])\n",
        "print(\"Age:\", my_dict[\"age\"])\n",
        "\n",
        "# Adding a new key-value pair\n",
        "my_dict[\"occupation\"] = \"Engineer\"\n",
        "print(\"Dictionary after adding occupation:\", my_dict)"
      ],
      "metadata": {
        "id": "TO4Tlvr4m8BR"
      },
      "execution_count": null,
      "outputs": []
    },
    {
      "cell_type": "code",
      "source": [
        "# Example 8: Working with Sets\n",
        "my_set = {1, 2, 3, 4, 5}\n",
        "\n",
        "# Adding an element (if it doesn't exist)\n",
        "my_set.add(6)\n",
        "print(\"\\nSet after adding 6:\", my_set)\n",
        "\n",
        "# Removing an element\n",
        "my_set.remove(3)\n",
        "print(\"Set after removing 3:\", my_set)\n",
        "\n",
        "# Check if an element exists in the set\n",
        "print(\"Is 4 in the set?\", 4 in my_set)\n"
      ],
      "metadata": {
        "id": "qh2c3EPOm-Ni"
      },
      "execution_count": null,
      "outputs": []
    },
    {
      "cell_type": "code",
      "source": [
        "# 1.  Calculate the sum and difference of two numbers.\n",
        "num1 = 15\n",
        "num2 = 7\n",
        "sum_result = num1 + num2\n",
        "diff_result = num1 - num2\n",
        "print(\"Sum:\", sum_result)\n",
        "print(\"Difference:\", diff_result)"
      ],
      "metadata": {
        "id": "0VEPJqFfT0_x"
      },
      "execution_count": null,
      "outputs": []
    },
    {
      "cell_type": "code",
      "source": [
        "# 2. Calculate the product and quotient of two numbers.\n",
        "product_result = num1 * num2\n",
        "quotient_result = num1 / num2  # Floating-point division\n",
        "print(\"Product:\", product_result)\n",
        "print(\"Quotient:\", quotient_result)"
      ],
      "metadata": {
        "id": "6n75r_DjnCRc"
      },
      "execution_count": null,
      "outputs": []
    },
    {
      "cell_type": "code",
      "source": [
        "#3. Demonstrate the modulo operator.\n",
        "modulo_result = num1 % num2\n",
        "print(\"Modulo:\", modulo_result)"
      ],
      "metadata": {
        "id": "iBrQDaqYnFUU"
      },
      "execution_count": null,
      "outputs": []
    },
    {
      "cell_type": "code",
      "source": [
        "# 4.  Demonstrate floor division.\n",
        "floor_div_result = num1 // num2\n",
        "print(\"Floor Division:\", floor_div_result)"
      ],
      "metadata": {
        "id": "tHDQhjPvnG-E"
      },
      "execution_count": null,
      "outputs": []
    },
    {
      "cell_type": "code",
      "source": [
        "# 5. Exponentiation example\n",
        "exponent_result = num1 ** num2\n",
        "print(\"Exponent:\", exponent_result)"
      ],
      "metadata": {
        "id": "yngtc-OrnIhq"
      },
      "execution_count": null,
      "outputs": []
    },
    {
      "cell_type": "code",
      "source": [
        "# 6. Multiple assignments in a single line\n",
        "x, y, z = 10, 20, 30\n",
        "print(x, y, z)"
      ],
      "metadata": {
        "id": "Bz9Y5OpYnJ8P"
      },
      "execution_count": null,
      "outputs": []
    },
    {
      "cell_type": "code",
      "source": [
        "#7. Augmented assignment operators\n",
        "a = 5\n",
        "a += 3  # Equivalent to a = a + 3\n",
        "a -= 2  # Equivalent to a = a - 2\n",
        "print(a)"
      ],
      "metadata": {
        "id": "SMr4iBEsnLka"
      },
      "execution_count": null,
      "outputs": []
    },
    {
      "cell_type": "code",
      "source": [
        "# 8. Boolean operations (and, or, not)\n",
        "p = True\n",
        "q = False\n",
        "print(p and q)  # Logical AND\n",
        "print(p or q)  # Logical OR\n",
        "print(not p)  # Logical NOT"
      ],
      "metadata": {
        "id": "9UwnF51fnNKJ"
      },
      "execution_count": null,
      "outputs": []
    },
    {
      "cell_type": "code",
      "source": [
        "# 9. Comparison operators\n",
        "x = 10\n",
        "y = 5\n",
        "print(x > y)  # Greater than\n",
        "print(x < y)  # Less than\n",
        "print(x == y)  # Equal to\n",
        "print(x != y)  # Not equal to\n",
        "print(x >= y)  # Greater than or equal to\n",
        "print(x <= y)  # Less than or equal to"
      ],
      "metadata": {
        "id": "idT4QGo2nOyb"
      },
      "execution_count": null,
      "outputs": []
    },
    {
      "cell_type": "code",
      "source": [
        "# 10. Bitwise operations\n",
        "a = 10  # Binary: 1010\n",
        "b = 4   # Binary: 0100\n",
        "print(a & b)   # Bitwise AND\n",
        "print(a | b)   # Bitwise OR\n",
        "print(a ^ b)   # Bitwise XOR\n",
        "print(~a)     # Bitwise NOT\n",
        "print(a << 1)  # Left shift\n",
        "print(a >> 1)  # Right shift"
      ],
      "metadata": {
        "id": "IqXSQyWJnQa7"
      },
      "execution_count": null,
      "outputs": []
    },
    {
      "cell_type": "code",
      "source": [
        "# 11. Membership operators\n",
        "my_list = [1, 2, 3, 4, 5]\n",
        "print(3 in my_list)   # Checks if 3 is present in the list\n",
        "print(6 not in my_list)  # Checks if 6 is not present in the list"
      ],
      "metadata": {
        "id": "t6MMFGXjnSPI"
      },
      "execution_count": null,
      "outputs": []
    },
    {
      "cell_type": "code",
      "source": [
        "# 12. Identity operators\n",
        "x = 10\n",
        "y = 10\n",
        "z = 20\n",
        "print(x is y)  # Checks if x and y refer to the same object\n",
        "print(x is not z) # Checks if x and z do not refer to the same object\n"
      ],
      "metadata": {
        "id": "FdmQDB6UnUnH"
      },
      "execution_count": null,
      "outputs": []
    },
    {
      "cell_type": "code",
      "source": [
        "# 1. if-else statement: Check if a number is even or odd.\n",
        "number = 10\n",
        "if number % 2 == 0:\n",
        "    print(f\"{number} is even.\")\n",
        "else:\n",
        "    print(f\"{number} is odd.\")"
      ],
      "metadata": {
        "id": "VpJL0y-yUXMA"
      },
      "execution_count": null,
      "outputs": []
    },
    {
      "cell_type": "code",
      "source": [
        "# 2. if-elif-else statement: Determine the grade based on a score.\n",
        "score = 85\n",
        "if score >= 90:\n",
        "    grade = \"A\"\n",
        "elif score >= 80:\n",
        "    grade = \"B\"\n",
        "elif score >= 70:\n",
        "    grade = \"C\"\n",
        "elif score >= 60:\n",
        "    grade = \"D\"\n",
        "else:\n",
        "    grade = \"F\"\n",
        "print(f\"Score: {score}, Grade: {grade}\")"
      ],
      "metadata": {
        "id": "9dJTa2_XnX3X"
      },
      "execution_count": null,
      "outputs": []
    },
    {
      "cell_type": "code",
      "source": [
        "# 3. for loop: Iterate through a list and print each element.\n",
        "fruits = [\"apple\", \"banana\", \"cherry\"]\n",
        "for fruit in fruits:\n",
        "    print(fruit)"
      ],
      "metadata": {
        "id": "yu7KBB9AnZhA"
      },
      "execution_count": null,
      "outputs": []
    },
    {
      "cell_type": "code",
      "source": [
        "# 4. while loop: Print numbers from 1 to 5.\n",
        "count = 1\n",
        "while count <= 5:\n",
        "    print(count)\n",
        "    count += 1"
      ],
      "metadata": {
        "id": "YfUVlzGCnbHO"
      },
      "execution_count": null,
      "outputs": []
    },
    {
      "cell_type": "code",
      "source": [
        "# 5. Nested loops: Print multiplication table up to 5.\n",
        "for i in range(1, 6):\n",
        "    for j in range(1, 6):\n",
        "        print(i * j, end=\"\\t\")\n",
        "    print()"
      ],
      "metadata": {
        "id": "IVmbkpT2nc4-"
      },
      "execution_count": null,
      "outputs": []
    },
    {
      "cell_type": "code",
      "source": [
        "# 6. Break statement: Exit a loop when a condition is met.\n",
        "for i in range(1, 10):\n",
        "    if i == 5:\n",
        "        break\n",
        "    print(i)"
      ],
      "metadata": {
        "id": "ilzU-8h8neoo"
      },
      "execution_count": null,
      "outputs": []
    },
    {
      "cell_type": "code",
      "source": [
        "# 7. Continue statement: Skip an iteration when a condition is met.\n",
        "for i in range(1, 10):\n",
        "    if i == 5:\n",
        "        continue\n",
        "i\n"
      ],
      "metadata": {
        "id": "mSVyC_FEngYt"
      },
      "execution_count": null,
      "outputs": []
    },
    {
      "cell_type": "code",
      "source": [
        "# Function without arguments\n",
        "def greet():\n",
        "  \"\"\"Greets the user.\"\"\"\n",
        "  print(\"Hello!\")"
      ],
      "metadata": {
        "id": "-djvvEF5Uj3D"
      },
      "execution_count": null,
      "outputs": []
    },
    {
      "cell_type": "code",
      "source": [
        "# Function with keyword arguments\n",
        "def greet_person(name=\"Guest\"):\n",
        "  \"\"\"Greets a person with their name.\"\"\"\n",
        "  print(f\"Hello, {name}!\")"
      ],
      "metadata": {
        "id": "lsQQEvXgnk76"
      },
      "execution_count": null,
      "outputs": []
    },
    {
      "cell_type": "code",
      "source": [
        "# Function with variable-length arguments\n",
        "def sum_numbers(*numbers):\n",
        "  \"\"\"Calculates the sum of multiple numbers.\"\"\"\n",
        "  total = 0\n",
        "  for number in numbers:\n",
        "    total += number\n",
        "  return total"
      ],
      "metadata": {
        "id": "K9KmixHOnmsu"
      },
      "execution_count": null,
      "outputs": []
    }
  ]
}